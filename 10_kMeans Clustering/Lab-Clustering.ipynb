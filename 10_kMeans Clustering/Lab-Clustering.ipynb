{
 "cells": [
  {
   "cell_type": "markdown",
   "metadata": {},
   "source": [
    "# Clustering Lab"
   ]
  },
  {
   "cell_type": "markdown",
   "metadata": {},
   "source": [
    " \n",
    "Based of the amazing work you did in the Movie Industry you've been recruited to the NBA! You are working as the VP of Analytics that helps support a head scout, Mr. Rooney, for the worst team in the NBA probably the Wizards. Mr. Rooney just heard about Data Science and thinks it can solve all the team's problems!!! He wants you to figure out a way to find players that are high performing but maybe not highly paid that you can steal to get the team to the playoffs! \n",
    "\n",
    "In this document you will work through a similar process that we did in class with the NBA data (NBA_Perf_22 and nba_salaries_22), merging them together. This is from 22-23 season, feel free to update to 2023-24 season if you want.\n",
    "# Data Sources:\n",
    "\n",
    "https://www.basketball-reference.com/leagues/NBA_2024_totals.html # reference for performance data\n",
    "https://www.basketball-reference.com/contracts/players.html # reference for salary data\n",
    "\n",
    "\n",
    "Details: \n",
    "\n",
    "- Determine a way to use clustering to estimate based on performance if \n",
    "players are under or over paid, generally. \n",
    "\n",
    "- Then select players you believe would be best for your team and explain why. Do so in three categories: \n",
    "    * Examples that are not good choices (3 or 4) \n",
    "    * Several options that are good choices (3 or 4)\n",
    "    * Several options that could work, assuming you can't get the players in the good category (3 or 4)\n",
    "\n",
    "- You will decide the cutoffs for each category, so you should be able to explain why you chose them.\n",
    "\n",
    "- Provide a well commented and clean report of your findings in a separate notebook that can be presented to Mr. Rooney, keeping in mind he doesn't understand...anything. Include a rationale for variables you included in the model, details on your approach and a overview of the results with supporting visualizations. \n",
    "\n",
    "\n",
    "Hints:\n",
    "\n",
    "- Salary is the variable you are trying to understand \n",
    "- When interpreting you might want to use graphs that include variables that are the most correlated with Salary\n",
    "- You'll need to scale the variables before performing the clustering\n",
    "- Be specific about why you selected the players that you did, more detail is better\n",
    "- Use good coding practices, comment heavily, indent, don't use for loops unless totally necessary and create modular sections that align with some outcome. If necessary create more than one script,list/load libraries at the top and don't include libraries that aren't used. \n",
    "- Be careful for non-traditional characters in the players names, certain graphs won't work when these characters are included.\n"
   ]
  },
  {
   "cell_type": "code",
   "execution_count": 11,
   "metadata": {},
   "outputs": [],
   "source": [
    "import pandas as pd\n",
    "import numpy as np\n",
    "import plotly.express as px\n",
    "import plotly.graph_objects as go\n",
    "from sklearn.cluster import KMeans\n",
    "from sklearn.model_selection import train_test_split\n",
    "from sklearn.tree import DecisionTreeClassifier\n",
    "from sklearn.metrics import confusion_matrix"
   ]
  },
  {
   "cell_type": "code",
   "execution_count": 12,
   "metadata": {},
   "outputs": [],
   "source": [
    "performance = pd.read_csv('../data/NBA_Perf_22.csv', encoding='latin')\n",
    "salary = pd.read_csv('../data/nba_salaries_22.csv', encoding='latin')\n",
    "salary = salary.rename(columns={'ï»¿Player': 'Player'})\n",
    "df = pd.merge(performance, salary, on='Player')"
   ]
  },
  {
   "cell_type": "code",
   "execution_count": 29,
   "metadata": {},
   "outputs": [],
   "source": [
    "#Drop variables that will not be needed or are duplicates\n",
    "df1 = df.drop(columns=['Player', 'Tm', 'Pos', 'Age', 'Salary'])\n",
    "df1.dropna(axis=0, inplace=True)"
   ]
  },
  {
   "cell_type": "code",
   "execution_count": 32,
   "metadata": {},
   "outputs": [],
   "source": [
    "#Run the clustering algo with your best guess for K\n",
    "test = KMeans(n_clusters=5, random_state=1).fit(df1)"
   ]
  },
  {
   "cell_type": "code",
   "execution_count": 33,
   "metadata": {},
   "outputs": [
    {
     "name": "stdout",
     "output_type": "stream",
     "text": [
      "[[60.35849057 10.41509434 18.86037736  2.76981132  6.17672956  0.45253459\n",
      "   0.96163522  2.77106918  0.32795597  1.81320755  3.40628931  0.52805031\n",
      "   0.52844654  1.01761006  1.33522013  0.75974843  0.81257862  2.55786164\n",
      "   3.37295597  1.5509434   0.60503145  0.34842767  0.85220126  1.60440252\n",
      "   7.52012579]\n",
      " [57.65753425 44.01369863 29.08630137  5.02328767 10.74931507  0.46856164\n",
      "   1.45205479  4.11780822  0.33054795  3.5739726   6.63835616  0.53805479\n",
      "   0.53984932  2.27123288  2.8739726   0.78421918  1.01917808  3.98219178\n",
      "   5.00273973  3.13150685  0.93150685  0.60547945  1.65890411  2.21232877\n",
      "  13.78219178]\n",
      " [71.3        69.13333333 31.50555556  5.93555556 12.71111111  0.47641111\n",
      "   1.77555556  4.86333333  0.34095556  4.15777778  7.84444444  0.53377778\n",
      "   0.54493333  2.65777778  3.37222222  0.7825      1.26222222  4.58444444\n",
      "   5.84888889  3.95        0.98777778  0.57666667  1.94888889  2.33555556\n",
      "  16.30111111]\n",
      " [27.25490196 18.03921569 27.34901961  5.08235294 11.13529412  0.46021569\n",
      "   1.60588235  4.43921569  0.33866667  3.4627451   6.69607843  0.51268627\n",
      "   0.52998039  2.06666667  2.60980392  0.7804902   1.08235294  3.61960784\n",
      "   4.7         3.16470588  0.89215686  0.45098039  1.58235294  2.09411765\n",
      "  13.8254902 ]\n",
      " [22.77659574  1.71276596 13.34574468  1.90425532  4.15319149  0.45489362\n",
      "   0.56489362  1.62978723  0.31037234  1.33723404  2.53510638  0.51856383\n",
      "   0.52009574  0.78510638  1.0606383   0.74368085  0.7287234   1.86702128\n",
      "   2.58829787  1.17021277  0.42978723  0.3287234   0.70531915  1.34787234\n",
      "   5.15531915]]\n"
     ]
    }
   ],
   "source": [
    "#View the results\n",
    "print(test.cluster_centers_)"
   ]
  },
  {
   "cell_type": "code",
   "execution_count": 16,
   "metadata": {},
   "outputs": [],
   "source": [
    "#Create a visualization of the results with 2 or 3 variables that you think will best\n",
    "#differentiate the clusters"
   ]
  },
  {
   "cell_type": "code",
   "execution_count": 17,
   "metadata": {},
   "outputs": [],
   "source": [
    "#Evaluate the quality of the clustering using total variance explained and silhouette scores"
   ]
  },
  {
   "cell_type": "code",
   "execution_count": 18,
   "metadata": {},
   "outputs": [],
   "source": [
    "#Determine the ideal number of clusters using the elbow method and the silhouette coefficient"
   ]
  },
  {
   "cell_type": "code",
   "execution_count": 19,
   "metadata": {},
   "outputs": [],
   "source": [
    "#Visualize the results of the elbow method"
   ]
  },
  {
   "cell_type": "code",
   "execution_count": 20,
   "metadata": {},
   "outputs": [],
   "source": [
    "#Use the recommended number of cluster (assuming it's different) to retrain your model and visualize the results"
   ]
  },
  {
   "cell_type": "code",
   "execution_count": 21,
   "metadata": {},
   "outputs": [],
   "source": [
    "#Once again evaluate the quality of the clustering using total variance explained and silhouette scores"
   ]
  },
  {
   "cell_type": "code",
   "execution_count": 22,
   "metadata": {},
   "outputs": [],
   "source": [
    "#Use the model to select players for Mr. Rooney to consider"
   ]
  },
  {
   "cell_type": "markdown",
   "metadata": {},
   "source": [
    "#Write up the results in a separate notebook with supporting visualizations and \n",
    "an overview of how and why you made the choices you did. This should be at least \n",
    "500 words and should be written for a non-technical audience."
   ]
  }
 ],
 "metadata": {
  "kernelspec": {
   "display_name": "Python 3",
   "language": "python",
   "name": "python3"
  },
  "language_info": {
   "codemirror_mode": {
    "name": "ipython",
    "version": 3
   },
   "file_extension": ".py",
   "mimetype": "text/x-python",
   "name": "python",
   "nbconvert_exporter": "python",
   "pygments_lexer": "ipython3",
   "version": "3.12.8"
  }
 },
 "nbformat": 4,
 "nbformat_minor": 2
}
