{
 "cells": [
  {
   "cell_type": "markdown",
   "metadata": {},
   "source": [
    "\n",
    "Congrats....again! Based off the amazing work you did on the classification model, you've been promoted to chief of all data scientists in Hollywood, your a total celebrity....among data scientists :).  \n",
    "\n",
    "Your boss, head of the studio, has now asked you to build a model to predict gross revenue in order to help them decide which movies to invest in.\n",
    "\n",
    "Once again, you would like to be able to explain the model to mere mortals but need a fairly robust and flexible approach so you've chosen to use decision trees to get started. \n",
    "\n",
    "In doing so...you leverage work you've done in the past to get the job done....you're a data scientist after all! "
   ]
  },
  {
   "cell_type": "code",
   "execution_count": 150,
   "metadata": {},
   "outputs": [],
   "source": [
    "import pandas as pd\n",
    "import numpy as np\n",
    "import matplotlib.pyplot as plt\n",
    "import graphviz\n",
    "from sklearn.model_selection import train_test_split,RepeatedKFold,GridSearchCV\n",
    "from sklearn.model_selection import train_test_split,GridSearchCV,RepeatedStratifiedKFold\n",
    "from sklearn import metrics\n",
    "from sklearn.metrics import ConfusionMatrixDisplay, get_scorer_names\n",
    "from sklearn.preprocessing import OrdinalEncoder\n",
    "from sklearn.tree import plot_tree, DecisionTreeClassifier, export_graphviz\n",
    "from matplotlib import pyplot as plt\n",
    "import seaborn as sns\n",
    "from sklearn import preprocessing\n",
    "import random\n",
    "from numpy import log\n",
    "from sklearn.tree import DecisionTreeRegressor, export_graphviz "
   ]
  },
  {
   "cell_type": "code",
   "execution_count": 151,
   "metadata": {},
   "outputs": [],
   "source": [
    "#1. Load the data\n",
    "movie=pd.read_csv(\"../data/movie_metadata.csv\")"
   ]
  },
  {
   "cell_type": "markdown",
   "metadata": {},
   "source": [
    "#2 Ensure all the variables are classified correctly and collapse factor variables as needed."
   ]
  },
  {
   "cell_type": "code",
   "execution_count": 152,
   "metadata": {},
   "outputs": [
    {
     "data": {
      "application/vnd.microsoft.datawrangler.viewer.v0+json": {
       "columns": [
        {
         "name": "index",
         "rawType": "object",
         "type": "string"
        },
        {
         "name": "num_critic_for_reviews",
         "rawType": "float64",
         "type": "float"
        },
        {
         "name": "duration",
         "rawType": "float64",
         "type": "float"
        },
        {
         "name": "director_facebook_likes",
         "rawType": "float64",
         "type": "float"
        },
        {
         "name": "actor_3_facebook_likes",
         "rawType": "float64",
         "type": "float"
        },
        {
         "name": "actor_1_facebook_likes",
         "rawType": "float64",
         "type": "float"
        },
        {
         "name": "gross",
         "rawType": "float64",
         "type": "float"
        },
        {
         "name": "num_voted_users",
         "rawType": "float64",
         "type": "float"
        },
        {
         "name": "cast_total_facebook_likes",
         "rawType": "float64",
         "type": "float"
        },
        {
         "name": "facenumber_in_poster",
         "rawType": "float64",
         "type": "float"
        },
        {
         "name": "num_user_for_reviews",
         "rawType": "float64",
         "type": "float"
        },
        {
         "name": "budget",
         "rawType": "float64",
         "type": "float"
        },
        {
         "name": "title_year",
         "rawType": "float64",
         "type": "float"
        },
        {
         "name": "actor_2_facebook_likes",
         "rawType": "float64",
         "type": "float"
        },
        {
         "name": "imdb_score",
         "rawType": "float64",
         "type": "float"
        },
        {
         "name": "aspect_ratio",
         "rawType": "float64",
         "type": "float"
        },
        {
         "name": "movie_facebook_likes",
         "rawType": "float64",
         "type": "float"
        }
       ],
       "conversionMethod": "pd.DataFrame",
       "ref": "f973a181-948b-4e10-82ea-5f59c35f123c",
       "rows": [
        [
         "count",
         "4993.0",
         "5028.0",
         "4939.0",
         "5020.0",
         "5036.0",
         "4159.0",
         "5043.0",
         "5043.0",
         "5030.0",
         "5022.0",
         "4551.0",
         "4935.0",
         "5030.0",
         "5043.0",
         "4714.0",
         "5043.0"
        ],
        [
         "mean",
         "140.1942719807731",
         "107.2010739856802",
         "686.5092123911724",
         "645.0097609561753",
         "6560.04706115965",
         "48468407.52680933",
         "83668.16081697402",
         "9699.06385088241",
         "1.3711729622266402",
         "272.77080844285143",
         "39752620.436387606",
         "2002.4705167173252",
         "1651.7544731610337",
         "6.442137616498116",
         "2.22040305473059",
         "7525.9645052548085"
        ],
        [
         "std",
         "121.60167539623129",
         "25.197440808824194",
         "2813.3286068656744",
         "1665.0417284458586",
         "15020.759119984092",
         "68452990.43875284",
         "138485.25680596245",
         "18163.79912404591",
         "2.013575919996105",
         "377.9828855657686",
         "206114898.4486867",
         "12.47459891927072",
         "4042.4388626418736",
         "1.125115865732819",
         "1.3851125353032794",
         "19320.445109946588"
        ],
        [
         "min",
         "1.0",
         "7.0",
         "0.0",
         "0.0",
         "0.0",
         "162.0",
         "5.0",
         "0.0",
         "0.0",
         "1.0",
         "218.0",
         "1916.0",
         "0.0",
         "1.6",
         "1.18",
         "0.0"
        ],
        [
         "25%",
         "50.0",
         "93.0",
         "7.0",
         "133.0",
         "614.0",
         "5340987.5",
         "8593.5",
         "1411.0",
         "0.0",
         "65.0",
         "6000000.0",
         "1999.0",
         "281.0",
         "5.8",
         "1.85",
         "0.0"
        ],
        [
         "50%",
         "110.0",
         "103.0",
         "49.0",
         "371.5",
         "988.0",
         "25517500.0",
         "34359.0",
         "3090.0",
         "1.0",
         "156.0",
         "20000000.0",
         "2005.0",
         "595.0",
         "6.6",
         "2.35",
         "166.0"
        ],
        [
         "75%",
         "195.0",
         "118.0",
         "194.5",
         "636.0",
         "11000.0",
         "62309437.5",
         "96309.0",
         "13756.5",
         "2.0",
         "326.0",
         "45000000.0",
         "2011.0",
         "918.0",
         "7.2",
         "2.35",
         "3000.0"
        ],
        [
         "max",
         "813.0",
         "511.0",
         "23000.0",
         "23000.0",
         "640000.0",
         "760505847.0",
         "1689764.0",
         "656730.0",
         "43.0",
         "5060.0",
         "12215500000.0",
         "2016.0",
         "137000.0",
         "9.5",
         "16.0",
         "349000.0"
        ]
       ],
       "shape": {
        "columns": 16,
        "rows": 8
       }
      },
      "text/html": [
       "<div>\n",
       "<style scoped>\n",
       "    .dataframe tbody tr th:only-of-type {\n",
       "        vertical-align: middle;\n",
       "    }\n",
       "\n",
       "    .dataframe tbody tr th {\n",
       "        vertical-align: top;\n",
       "    }\n",
       "\n",
       "    .dataframe thead th {\n",
       "        text-align: right;\n",
       "    }\n",
       "</style>\n",
       "<table border=\"1\" class=\"dataframe\">\n",
       "  <thead>\n",
       "    <tr style=\"text-align: right;\">\n",
       "      <th></th>\n",
       "      <th>num_critic_for_reviews</th>\n",
       "      <th>duration</th>\n",
       "      <th>director_facebook_likes</th>\n",
       "      <th>actor_3_facebook_likes</th>\n",
       "      <th>actor_1_facebook_likes</th>\n",
       "      <th>gross</th>\n",
       "      <th>num_voted_users</th>\n",
       "      <th>cast_total_facebook_likes</th>\n",
       "      <th>facenumber_in_poster</th>\n",
       "      <th>num_user_for_reviews</th>\n",
       "      <th>budget</th>\n",
       "      <th>title_year</th>\n",
       "      <th>actor_2_facebook_likes</th>\n",
       "      <th>imdb_score</th>\n",
       "      <th>aspect_ratio</th>\n",
       "      <th>movie_facebook_likes</th>\n",
       "    </tr>\n",
       "  </thead>\n",
       "  <tbody>\n",
       "    <tr>\n",
       "      <th>count</th>\n",
       "      <td>4993.000000</td>\n",
       "      <td>5028.000000</td>\n",
       "      <td>4939.000000</td>\n",
       "      <td>5020.000000</td>\n",
       "      <td>5036.000000</td>\n",
       "      <td>4.159000e+03</td>\n",
       "      <td>5.043000e+03</td>\n",
       "      <td>5043.000000</td>\n",
       "      <td>5030.000000</td>\n",
       "      <td>5022.000000</td>\n",
       "      <td>4.551000e+03</td>\n",
       "      <td>4935.000000</td>\n",
       "      <td>5030.000000</td>\n",
       "      <td>5043.000000</td>\n",
       "      <td>4714.000000</td>\n",
       "      <td>5043.000000</td>\n",
       "    </tr>\n",
       "    <tr>\n",
       "      <th>mean</th>\n",
       "      <td>140.194272</td>\n",
       "      <td>107.201074</td>\n",
       "      <td>686.509212</td>\n",
       "      <td>645.009761</td>\n",
       "      <td>6560.047061</td>\n",
       "      <td>4.846841e+07</td>\n",
       "      <td>8.366816e+04</td>\n",
       "      <td>9699.063851</td>\n",
       "      <td>1.371173</td>\n",
       "      <td>272.770808</td>\n",
       "      <td>3.975262e+07</td>\n",
       "      <td>2002.470517</td>\n",
       "      <td>1651.754473</td>\n",
       "      <td>6.442138</td>\n",
       "      <td>2.220403</td>\n",
       "      <td>7525.964505</td>\n",
       "    </tr>\n",
       "    <tr>\n",
       "      <th>std</th>\n",
       "      <td>121.601675</td>\n",
       "      <td>25.197441</td>\n",
       "      <td>2813.328607</td>\n",
       "      <td>1665.041728</td>\n",
       "      <td>15020.759120</td>\n",
       "      <td>6.845299e+07</td>\n",
       "      <td>1.384853e+05</td>\n",
       "      <td>18163.799124</td>\n",
       "      <td>2.013576</td>\n",
       "      <td>377.982886</td>\n",
       "      <td>2.061149e+08</td>\n",
       "      <td>12.474599</td>\n",
       "      <td>4042.438863</td>\n",
       "      <td>1.125116</td>\n",
       "      <td>1.385113</td>\n",
       "      <td>19320.445110</td>\n",
       "    </tr>\n",
       "    <tr>\n",
       "      <th>min</th>\n",
       "      <td>1.000000</td>\n",
       "      <td>7.000000</td>\n",
       "      <td>0.000000</td>\n",
       "      <td>0.000000</td>\n",
       "      <td>0.000000</td>\n",
       "      <td>1.620000e+02</td>\n",
       "      <td>5.000000e+00</td>\n",
       "      <td>0.000000</td>\n",
       "      <td>0.000000</td>\n",
       "      <td>1.000000</td>\n",
       "      <td>2.180000e+02</td>\n",
       "      <td>1916.000000</td>\n",
       "      <td>0.000000</td>\n",
       "      <td>1.600000</td>\n",
       "      <td>1.180000</td>\n",
       "      <td>0.000000</td>\n",
       "    </tr>\n",
       "    <tr>\n",
       "      <th>25%</th>\n",
       "      <td>50.000000</td>\n",
       "      <td>93.000000</td>\n",
       "      <td>7.000000</td>\n",
       "      <td>133.000000</td>\n",
       "      <td>614.000000</td>\n",
       "      <td>5.340988e+06</td>\n",
       "      <td>8.593500e+03</td>\n",
       "      <td>1411.000000</td>\n",
       "      <td>0.000000</td>\n",
       "      <td>65.000000</td>\n",
       "      <td>6.000000e+06</td>\n",
       "      <td>1999.000000</td>\n",
       "      <td>281.000000</td>\n",
       "      <td>5.800000</td>\n",
       "      <td>1.850000</td>\n",
       "      <td>0.000000</td>\n",
       "    </tr>\n",
       "    <tr>\n",
       "      <th>50%</th>\n",
       "      <td>110.000000</td>\n",
       "      <td>103.000000</td>\n",
       "      <td>49.000000</td>\n",
       "      <td>371.500000</td>\n",
       "      <td>988.000000</td>\n",
       "      <td>2.551750e+07</td>\n",
       "      <td>3.435900e+04</td>\n",
       "      <td>3090.000000</td>\n",
       "      <td>1.000000</td>\n",
       "      <td>156.000000</td>\n",
       "      <td>2.000000e+07</td>\n",
       "      <td>2005.000000</td>\n",
       "      <td>595.000000</td>\n",
       "      <td>6.600000</td>\n",
       "      <td>2.350000</td>\n",
       "      <td>166.000000</td>\n",
       "    </tr>\n",
       "    <tr>\n",
       "      <th>75%</th>\n",
       "      <td>195.000000</td>\n",
       "      <td>118.000000</td>\n",
       "      <td>194.500000</td>\n",
       "      <td>636.000000</td>\n",
       "      <td>11000.000000</td>\n",
       "      <td>6.230944e+07</td>\n",
       "      <td>9.630900e+04</td>\n",
       "      <td>13756.500000</td>\n",
       "      <td>2.000000</td>\n",
       "      <td>326.000000</td>\n",
       "      <td>4.500000e+07</td>\n",
       "      <td>2011.000000</td>\n",
       "      <td>918.000000</td>\n",
       "      <td>7.200000</td>\n",
       "      <td>2.350000</td>\n",
       "      <td>3000.000000</td>\n",
       "    </tr>\n",
       "    <tr>\n",
       "      <th>max</th>\n",
       "      <td>813.000000</td>\n",
       "      <td>511.000000</td>\n",
       "      <td>23000.000000</td>\n",
       "      <td>23000.000000</td>\n",
       "      <td>640000.000000</td>\n",
       "      <td>7.605058e+08</td>\n",
       "      <td>1.689764e+06</td>\n",
       "      <td>656730.000000</td>\n",
       "      <td>43.000000</td>\n",
       "      <td>5060.000000</td>\n",
       "      <td>1.221550e+10</td>\n",
       "      <td>2016.000000</td>\n",
       "      <td>137000.000000</td>\n",
       "      <td>9.500000</td>\n",
       "      <td>16.000000</td>\n",
       "      <td>349000.000000</td>\n",
       "    </tr>\n",
       "  </tbody>\n",
       "</table>\n",
       "</div>"
      ],
      "text/plain": [
       "       num_critic_for_reviews     duration  director_facebook_likes  \\\n",
       "count             4993.000000  5028.000000              4939.000000   \n",
       "mean               140.194272   107.201074               686.509212   \n",
       "std                121.601675    25.197441              2813.328607   \n",
       "min                  1.000000     7.000000                 0.000000   \n",
       "25%                 50.000000    93.000000                 7.000000   \n",
       "50%                110.000000   103.000000                49.000000   \n",
       "75%                195.000000   118.000000               194.500000   \n",
       "max                813.000000   511.000000             23000.000000   \n",
       "\n",
       "       actor_3_facebook_likes  actor_1_facebook_likes         gross  \\\n",
       "count             5020.000000             5036.000000  4.159000e+03   \n",
       "mean               645.009761             6560.047061  4.846841e+07   \n",
       "std               1665.041728            15020.759120  6.845299e+07   \n",
       "min                  0.000000                0.000000  1.620000e+02   \n",
       "25%                133.000000              614.000000  5.340988e+06   \n",
       "50%                371.500000              988.000000  2.551750e+07   \n",
       "75%                636.000000            11000.000000  6.230944e+07   \n",
       "max              23000.000000           640000.000000  7.605058e+08   \n",
       "\n",
       "       num_voted_users  cast_total_facebook_likes  facenumber_in_poster  \\\n",
       "count     5.043000e+03                5043.000000           5030.000000   \n",
       "mean      8.366816e+04                9699.063851              1.371173   \n",
       "std       1.384853e+05               18163.799124              2.013576   \n",
       "min       5.000000e+00                   0.000000              0.000000   \n",
       "25%       8.593500e+03                1411.000000              0.000000   \n",
       "50%       3.435900e+04                3090.000000              1.000000   \n",
       "75%       9.630900e+04               13756.500000              2.000000   \n",
       "max       1.689764e+06              656730.000000             43.000000   \n",
       "\n",
       "       num_user_for_reviews        budget   title_year  \\\n",
       "count           5022.000000  4.551000e+03  4935.000000   \n",
       "mean             272.770808  3.975262e+07  2002.470517   \n",
       "std              377.982886  2.061149e+08    12.474599   \n",
       "min                1.000000  2.180000e+02  1916.000000   \n",
       "25%               65.000000  6.000000e+06  1999.000000   \n",
       "50%              156.000000  2.000000e+07  2005.000000   \n",
       "75%              326.000000  4.500000e+07  2011.000000   \n",
       "max             5060.000000  1.221550e+10  2016.000000   \n",
       "\n",
       "       actor_2_facebook_likes   imdb_score  aspect_ratio  movie_facebook_likes  \n",
       "count             5030.000000  5043.000000   4714.000000           5043.000000  \n",
       "mean              1651.754473     6.442138      2.220403           7525.964505  \n",
       "std               4042.438863     1.125116      1.385113          19320.445110  \n",
       "min                  0.000000     1.600000      1.180000              0.000000  \n",
       "25%                281.000000     5.800000      1.850000              0.000000  \n",
       "50%                595.000000     6.600000      2.350000            166.000000  \n",
       "75%                918.000000     7.200000      2.350000           3000.000000  \n",
       "max             137000.000000     9.500000     16.000000         349000.000000  "
      ]
     },
     "execution_count": 152,
     "metadata": {},
     "output_type": "execute_result"
    }
   ],
   "source": [
    "movie.describe()"
   ]
  },
  {
   "cell_type": "markdown",
   "metadata": {},
   "source": [
    "#3 Check for missing variables and correct as needed."
   ]
  },
  {
   "cell_type": "markdown",
   "metadata": {},
   "source": [
    "#4 Guess what, you don't need to scale the data, because DTs don't require this to be done, they make local greedy decisions...keeps getting easier, go to the next step."
   ]
  },
  {
   "cell_type": "markdown",
   "metadata": {},
   "source": [
    "#5 Determine the variance of the target variable, is it normally distributed? If not, you may want to transform the target variable. Why might this be important?"
   ]
  },
  {
   "cell_type": "markdown",
   "metadata": {},
   "source": [
    "#6 Split your data into test, tune, and train. (80/10/10)"
   ]
  },
  {
   "cell_type": "code",
   "execution_count": 153,
   "metadata": {},
   "outputs": [
    {
     "name": "stdout",
     "output_type": "stream",
     "text": [
      "Variance of log Gross: 193.20390310010393\n"
     ]
    }
   ],
   "source": [
    "#Steps 2-6 are done in the following function:\n",
    "np.random.seed(1)\n",
    "# Function drops unnecessary columns, fills in missing vals with mean, creates the score column with the binned imdb values, and creates the train/test/tune splits\n",
    "def clean_split_data(df, target, train_size=0.80, tune_size=0.10, random_state=21):\n",
    "    # Drop unnecessary columns\n",
    "    df = df[['num_critic_for_reviews','actor_1_facebook_likes','gross','num_voted_users','cast_total_facebook_likes','num_user_for_reviews','budget','imdb_score','movie_facebook_likes']]\n",
    "    # Fill missing values with mean for numeric columns\n",
    "    df = df.fillna(df.mean(numeric_only=True))\n",
    "    # Create target variable in this case Gross using the log for better distribution\n",
    "    df[target] = np.log(df[target] + 1)\n",
    "    X = df.drop(columns=target)\n",
    "    y = df[target]\n",
    "    \n",
    "    # Calculate prevalence of the score\n",
    "    variance = y.value_counts().var()\n",
    "    print(\"Variance of log Gross:\", variance)\n",
    "    \n",
    "    # Split data into training and testing sets\n",
    "    X_train, X_temp, y_train, y_temp = train_test_split(X, y, train_size=train_size, random_state=random_state)\n",
    "    \n",
    "    # Split the temporary set into tuning and testing sets\n",
    "    X_tune, X_test, y_tune, y_test = train_test_split(X_temp, y_temp, train_size=tune_size, random_state=random_state+28)\n",
    "    \n",
    "    return X_train, X_tune, X_test, y_train, y_tune, y_test\n",
    "\n",
    "# Use the function to split the movie data\n",
    "X_train, X_tune, X_test, y_train, y_tune, y_test = clean_split_data(movie, 'gross')"
   ]
  },
  {
   "cell_type": "markdown",
   "metadata": {},
   "source": [
    "It is important to transform the target variable because if it is not normally distributed, large numbers and outliers can skew results leading to inaccurate predictions."
   ]
  },
  {
   "cell_type": "markdown",
   "metadata": {},
   "source": [
    "#7 Create the kfold object for cross validation."
   ]
  },
  {
   "cell_type": "code",
   "execution_count": 154,
   "metadata": {},
   "outputs": [],
   "source": [
    "# k fold object creation\n",
    "kf =RepeatedKFold(n_splits=10,n_repeats =5, random_state=42)"
   ]
  },
  {
   "cell_type": "markdown",
   "metadata": {},
   "source": [
    "#8 Create the scoring metric (several measures) you will use to evaluate your model and choose a hyperparamater to optimize."
   ]
  },
  {
   "cell_type": "code",
   "execution_count": 155,
   "metadata": {},
   "outputs": [],
   "source": [
    "#setting scoring metrics and param for grid search\n",
    "scoring = ['neg_mean_squared_error','r2','neg_mean_absolute_error']\n",
    "param = {\"max_leaf_nodes\":[10,20,30,40,50,60,70,80,90]}\n",
    "#param={\"min_samples_leaf\":[1,2,3,4,5,6,7,8,9,10], \"max_depth\":[1,2,3,4,5,6,7,8,9,10], \"max_leaf_nodes\":[None,10,20,30,40,50,60,70,80,90]}\n",
    "           "
   ]
  },
  {
   "cell_type": "markdown",
   "metadata": {},
   "source": [
    "#9 Build the regression tree object. "
   ]
  },
  {
   "cell_type": "code",
   "execution_count": 156,
   "metadata": {},
   "outputs": [],
   "source": [
    "reg=DecisionTreeRegressor(random_state=30)\n",
    "\n",
    "search = GridSearchCV(reg, param, scoring=scoring, n_jobs=-1, cv=kf,refit='neg_mean_squared_error')"
   ]
  },
  {
   "cell_type": "markdown",
   "metadata": {},
   "source": [
    "#10 Fit the model to the training data."
   ]
  },
  {
   "cell_type": "code",
   "execution_count": 157,
   "metadata": {},
   "outputs": [],
   "source": [
    "model = search.fit(X_train, y_train)"
   ]
  },
  {
   "cell_type": "markdown",
   "metadata": {},
   "source": [
    "#11 Explore the results of the model. Print the output of the grid search. What is the best parameter and score?"
   ]
  },
  {
   "cell_type": "code",
   "execution_count": 158,
   "metadata": {},
   "outputs": [
    {
     "name": "stdout",
     "output_type": "stream",
     "text": [
      "DecisionTreeRegressor(max_leaf_nodes=20, random_state=30)\n"
     ]
    },
    {
     "data": {
      "image/png": "[encoded data removed]",
      "text/plain": [
       "<Figure size 2000x1000 with 1 Axes>"
      ]
     },
     "metadata": {},
     "output_type": "display_data"
    }
   ],
   "source": [
    "best= model.best_estimator_\n",
    "print(best)\n",
    "\n",
    "plt.figure(figsize=(20,10))\n",
    "plot_tree(best, feature_names=X_train.columns, class_names=y_train.unique(), filled=True, rounded=True)\n",
    "plt.show()"
   ]
  },
  {
   "cell_type": "code",
   "execution_count": 159,
   "metadata": {},
   "outputs": [
    {
     "data": {
      "text/html": [
       "<style type=\"text/css\">\n",
       "</style>\n",
       "<table id=\"T_53721\">\n",
       "  <thead>\n",
       "    <tr>\n",
       "      <th id=\"T_53721_level0_col0\" class=\"col_heading level0 col0\" >depth</th>\n",
       "      <th id=\"T_53721_level0_col1\" class=\"col_heading level0 col1\" >rmse</th>\n",
       "      <th id=\"T_53721_level0_col2\" class=\"col_heading level0 col2\" >r2</th>\n",
       "      <th id=\"T_53721_level0_col3\" class=\"col_heading level0 col3\" >mae</th>\n",
       "      <th id=\"T_53721_level0_col4\" class=\"col_heading level0 col4\" >rmseSD</th>\n",
       "      <th id=\"T_53721_level0_col5\" class=\"col_heading level0 col5\" >r2SD</th>\n",
       "      <th id=\"T_53721_level0_col6\" class=\"col_heading level0 col6\" >maeSD</th>\n",
       "    </tr>\n",
       "  </thead>\n",
       "  <tbody>\n",
       "    <tr>\n",
       "      <td id=\"T_53721_row0_col0\" class=\"data row0 col0\" >10</td>\n",
       "      <td id=\"T_53721_row0_col1\" class=\"data row0 col1\" >1.944844</td>\n",
       "      <td id=\"T_53721_row0_col2\" class=\"data row0 col2\" >0.218647</td>\n",
       "      <td id=\"T_53721_row0_col3\" class=\"data row0 col3\" >1.375799</td>\n",
       "      <td id=\"T_53721_row0_col4\" class=\"data row0 col4\" >0.407866</td>\n",
       "      <td id=\"T_53721_row0_col5\" class=\"data row0 col5\" >0.043152</td>\n",
       "      <td id=\"T_53721_row0_col6\" class=\"data row0 col6\" >0.067440</td>\n",
       "    </tr>\n",
       "    <tr>\n",
       "      <td id=\"T_53721_row1_col0\" class=\"data row1 col0\" >20</td>\n",
       "      <td id=\"T_53721_row1_col1\" class=\"data row1 col1\" >1.943577</td>\n",
       "      <td id=\"T_53721_row1_col2\" class=\"data row1 col2\" >0.218633</td>\n",
       "      <td id=\"T_53721_row1_col3\" class=\"data row1 col3\" >1.342706</td>\n",
       "      <td id=\"T_53721_row1_col4\" class=\"data row1 col4\" >0.382840</td>\n",
       "      <td id=\"T_53721_row1_col5\" class=\"data row1 col5\" >0.051602</td>\n",
       "      <td id=\"T_53721_row1_col6\" class=\"data row1 col6\" >0.062182</td>\n",
       "    </tr>\n",
       "    <tr>\n",
       "      <td id=\"T_53721_row2_col0\" class=\"data row2 col0\" >30</td>\n",
       "      <td id=\"T_53721_row2_col1\" class=\"data row2 col1\" >1.959993</td>\n",
       "      <td id=\"T_53721_row2_col2\" class=\"data row2 col2\" >0.205232</td>\n",
       "      <td id=\"T_53721_row2_col3\" class=\"data row2 col3\" >1.332466</td>\n",
       "      <td id=\"T_53721_row2_col4\" class=\"data row2 col4\" >0.423395</td>\n",
       "      <td id=\"T_53721_row2_col5\" class=\"data row2 col5\" >0.064031</td>\n",
       "      <td id=\"T_53721_row2_col6\" class=\"data row2 col6\" >0.061832</td>\n",
       "    </tr>\n",
       "    <tr>\n",
       "      <td id=\"T_53721_row3_col0\" class=\"data row3 col0\" >40</td>\n",
       "      <td id=\"T_53721_row3_col1\" class=\"data row3 col1\" >1.981381</td>\n",
       "      <td id=\"T_53721_row3_col2\" class=\"data row3 col2\" >0.188203</td>\n",
       "      <td id=\"T_53721_row3_col3\" class=\"data row3 col3\" >1.330052</td>\n",
       "      <td id=\"T_53721_row3_col4\" class=\"data row3 col4\" >0.468300</td>\n",
       "      <td id=\"T_53721_row3_col5\" class=\"data row3 col5\" >0.069676</td>\n",
       "      <td id=\"T_53721_row3_col6\" class=\"data row3 col6\" >0.068440</td>\n",
       "    </tr>\n",
       "    <tr>\n",
       "      <td id=\"T_53721_row4_col0\" class=\"data row4 col0\" >50</td>\n",
       "      <td id=\"T_53721_row4_col1\" class=\"data row4 col1\" >2.003358</td>\n",
       "      <td id=\"T_53721_row4_col2\" class=\"data row4 col2\" >0.169704</td>\n",
       "      <td id=\"T_53721_row4_col3\" class=\"data row4 col3\" >1.328850</td>\n",
       "      <td id=\"T_53721_row4_col4\" class=\"data row4 col4\" >0.523616</td>\n",
       "      <td id=\"T_53721_row4_col5\" class=\"data row4 col5\" >0.087283</td>\n",
       "      <td id=\"T_53721_row4_col6\" class=\"data row4 col6\" >0.073374</td>\n",
       "    </tr>\n",
       "    <tr>\n",
       "      <td id=\"T_53721_row5_col0\" class=\"data row5 col0\" >60</td>\n",
       "      <td id=\"T_53721_row5_col1\" class=\"data row5 col1\" >2.024053</td>\n",
       "      <td id=\"T_53721_row5_col2\" class=\"data row5 col2\" >0.152189</td>\n",
       "      <td id=\"T_53721_row5_col3\" class=\"data row5 col3\" >1.326185</td>\n",
       "      <td id=\"T_53721_row5_col4\" class=\"data row5 col4\" >0.530083</td>\n",
       "      <td id=\"T_53721_row5_col5\" class=\"data row5 col5\" >0.089933</td>\n",
       "      <td id=\"T_53721_row5_col6\" class=\"data row5 col6\" >0.076698</td>\n",
       "    </tr>\n",
       "    <tr>\n",
       "      <td id=\"T_53721_row6_col0\" class=\"data row6 col0\" >70</td>\n",
       "      <td id=\"T_53721_row6_col1\" class=\"data row6 col1\" >2.048098</td>\n",
       "      <td id=\"T_53721_row6_col2\" class=\"data row6 col2\" >0.132356</td>\n",
       "      <td id=\"T_53721_row6_col3\" class=\"data row6 col3\" >1.330684</td>\n",
       "      <td id=\"T_53721_row6_col4\" class=\"data row6 col4\" >0.561889</td>\n",
       "      <td id=\"T_53721_row6_col5\" class=\"data row6 col5\" >0.091353</td>\n",
       "      <td id=\"T_53721_row6_col6\" class=\"data row6 col6\" >0.081842</td>\n",
       "    </tr>\n",
       "    <tr>\n",
       "      <td id=\"T_53721_row7_col0\" class=\"data row7 col0\" >80</td>\n",
       "      <td id=\"T_53721_row7_col1\" class=\"data row7 col1\" >2.074100</td>\n",
       "      <td id=\"T_53721_row7_col2\" class=\"data row7 col2\" >0.109937</td>\n",
       "      <td id=\"T_53721_row7_col3\" class=\"data row7 col3\" >1.335298</td>\n",
       "      <td id=\"T_53721_row7_col4\" class=\"data row7 col4\" >0.553046</td>\n",
       "      <td id=\"T_53721_row7_col5\" class=\"data row7 col5\" >0.090771</td>\n",
       "      <td id=\"T_53721_row7_col6\" class=\"data row7 col6\" >0.080182</td>\n",
       "    </tr>\n",
       "    <tr>\n",
       "      <td id=\"T_53721_row8_col0\" class=\"data row8 col0\" >90</td>\n",
       "      <td id=\"T_53721_row8_col1\" class=\"data row8 col1\" >2.093740</td>\n",
       "      <td id=\"T_53721_row8_col2\" class=\"data row8 col2\" >0.092995</td>\n",
       "      <td id=\"T_53721_row8_col3\" class=\"data row8 col3\" >1.338393</td>\n",
       "      <td id=\"T_53721_row8_col4\" class=\"data row8 col4\" >0.575124</td>\n",
       "      <td id=\"T_53721_row8_col5\" class=\"data row8 col5\" >0.095288</td>\n",
       "      <td id=\"T_53721_row8_col6\" class=\"data row8 col6\" >0.082593</td>\n",
       "    </tr>\n",
       "  </tbody>\n",
       "</table>\n"
      ],
      "text/plain": [
       "<pandas.io.formats.style.Styler at 0xffff79a16bd0>"
      ]
     },
     "execution_count": 159,
     "metadata": {},
     "output_type": "execute_result"
    }
   ],
   "source": [
    "mean_sq_err = np.sqrt(abs(model.cv_results_['mean_test_neg_mean_squared_error']))\n",
    "#nothing needs to be done for r2, it is the same\n",
    "r2= model.cv_results_['mean_test_r2']\n",
    "#Have negative mean absolute error so need to take absolute value\n",
    "mae= abs(model.cv_results_['mean_test_neg_mean_absolute_error'])\n",
    "\n",
    "#Get standard deviations as well...\n",
    "SDmse =  model.cv_results_['std_test_neg_mean_squared_error']\n",
    "SDr2= model.cv_results_['std_test_r2']\n",
    "SDmae= model.cv_results_['std_test_neg_mean_absolute_error']\n",
    "\n",
    "#Parameter:\n",
    "depth= np.unique(model.cv_results_['param_max_leaf_nodes']).data\n",
    "\n",
    "#Build DataFrame:\n",
    "final_model = pd.DataFrame(list(zip(depth, mean_sq_err, r2,mae, SDmse,SDr2,SDmae)),\n",
    "               columns =['depth','rmse','r2','mae',\"rmseSD\",'r2SD','maeSD'])\n",
    "\n",
    "#Let's take a look\n",
    "final_model.style.hide(axis=\"index\")"
   ]
  },
  {
   "cell_type": "markdown",
   "metadata": {},
   "source": [
    "The best parameter is a max leaf nodes of 20, and the best score is rmseSD"
   ]
  },
  {
   "cell_type": "markdown",
   "metadata": {},
   "source": [
    "#12 Which variables appear to be contributing the most (variable importance) "
   ]
  },
  {
   "cell_type": "code",
   "execution_count": 160,
   "metadata": {},
   "outputs": [
    {
     "name": "stdout",
     "output_type": "stream",
     "text": [
      "                           importance\n",
      "num_voted_users              0.610521\n",
      "budget                       0.164018\n",
      "num_critic_for_reviews       0.090309\n",
      "imdb_score                   0.046295\n",
      "cast_total_facebook_likes    0.045256\n",
      "num_user_for_reviews         0.043603\n",
      "actor_1_facebook_likes       0.000000\n",
      "movie_facebook_likes         0.000000\n",
      "Axes(0.125,0.11;0.775x0.77)\n"
     ]
    },
    {
     "data": {
      "image/png": "[encoded data removed]",
      "text/plain": [
       "<Figure size 1000x700 with 1 Axes>"
      ]
     },
     "metadata": {},
     "output_type": "display_data"
    }
   ],
   "source": [
    "varimp=pd.DataFrame(best.feature_importances_,index = X_train.columns,columns=['importance']).sort_values('importance', ascending=False)\n",
    "print(varimp)\n",
    "\n",
    "plt.figure(figsize=(10,7))\n",
    "print(varimp.importance.nlargest(7).plot(kind='barh'))"
   ]
  },
  {
   "cell_type": "markdown",
   "metadata": {},
   "source": [
    "It seems that the number of voted users and budget are the largest factors in determining gross revenue."
   ]
  },
  {
   "cell_type": "markdown",
   "metadata": {},
   "source": [
    "#13 Create a model object using the best model hyperparameter value from the trained regression tree. "
   ]
  },
  {
   "cell_type": "code",
   "execution_count": 161,
   "metadata": {},
   "outputs": [
    {
     "data": {
      "text/html": [
       "<style>#sk-container-id-9 {\n",
       "  /* Definition of color scheme common for light and dark mode */\n",
       "  --sklearn-color-text: #000;\n",
       "  --sklearn-color-text-muted: #666;\n",
       "  --sklearn-color-line: gray;\n",
       "  /* Definition of color scheme for unfitted estimators */\n",
       "  --sklearn-color-unfitted-level-0: #fff5e6;\n",
       "  --sklearn-color-unfitted-level-1: #f6e4d2;\n",
       "  --sklearn-color-unfitted-level-2: #ffe0b3;\n",
       "  --sklearn-color-unfitted-level-3: chocolate;\n",
       "  /* Definition of color scheme for fitted estimators */\n",
       "  --sklearn-color-fitted-level-0: #f0f8ff;\n",
       "  --sklearn-color-fitted-level-1: #d4ebff;\n",
       "  --sklearn-color-fitted-level-2: #b3dbfd;\n",
       "  --sklearn-color-fitted-level-3: cornflowerblue;\n",
       "\n",
       "  /* Specific color for light theme */\n",
       "  --sklearn-color-text-on-default-background: var(--sg-text-color, var(--theme-code-foreground, var(--jp-content-font-color1, black)));\n",
       "  --sklearn-color-background: var(--sg-background-color, var(--theme-background, var(--jp-layout-color0, white)));\n",
       "  --sklearn-color-border-box: var(--sg-text-color, var(--theme-code-foreground, var(--jp-content-font-color1, black)));\n",
       "  --sklearn-color-icon: #696969;\n",
       "\n",
       "  @media (prefers-color-scheme: dark) {\n",
       "    /* Redefinition of color scheme for dark theme */\n",
       "    --sklearn-color-text-on-default-background: var(--sg-text-color, var(--theme-code-foreground, var(--jp-content-font-color1, white)));\n",
       "    --sklearn-color-background: var(--sg-background-color, var(--theme-background, var(--jp-layout-color0, #111)));\n",
       "    --sklearn-color-border-box: var(--sg-text-color, var(--theme-code-foreground, var(--jp-content-font-color1, white)));\n",
       "    --sklearn-color-icon: #878787;\n",
       "  }\n",
       "}\n",
       "\n",
       "#sk-container-id-9 {\n",
       "  color: var(--sklearn-color-text);\n",
       "}\n",
       "\n",
       "#sk-container-id-9 pre {\n",
       "  padding: 0;\n",
       "}\n",
       "\n",
       "#sk-container-id-9 input.sk-hidden--visually {\n",
       "  border: 0;\n",
       "  clip: rect(1px 1px 1px 1px);\n",
       "  clip: rect(1px, 1px, 1px, 1px);\n",
       "  height: 1px;\n",
       "  margin: -1px;\n",
       "  overflow: hidden;\n",
       "  padding: 0;\n",
       "  position: absolute;\n",
       "  width: 1px;\n",
       "}\n",
       "\n",
       "#sk-container-id-9 div.sk-dashed-wrapped {\n",
       "  border: 1px dashed var(--sklearn-color-line);\n",
       "  margin: 0 0.4em 0.5em 0.4em;\n",
       "  box-sizing: border-box;\n",
       "  padding-bottom: 0.4em;\n",
       "  background-color: var(--sklearn-color-background);\n",
       "}\n",
       "\n",
       "#sk-container-id-9 div.sk-container {\n",
       "  /* jupyter's `normalize.less` sets `[hidden] { display: none; }`\n",
       "     but bootstrap.min.css set `[hidden] { display: none !important; }`\n",
       "     so we also need the `!important` here to be able to override the\n",
       "     default hidden behavior on the sphinx rendered scikit-learn.org.\n",
       "     See: https://github.com/scikit-learn/scikit-learn/issues/21755 */\n",
       "  display: inline-block !important;\n",
       "  position: relative;\n",
       "}\n",
       "\n",
       "#sk-container-id-9 div.sk-text-repr-fallback {\n",
       "  display: none;\n",
       "}\n",
       "\n",
       "div.sk-parallel-item,\n",
       "div.sk-serial,\n",
       "div.sk-item {\n",
       "  /* draw centered vertical line to link estimators */\n",
       "  background-image: linear-gradient(var(--sklearn-color-text-on-default-background), var(--sklearn-color-text-on-default-background));\n",
       "  background-size: 2px 100%;\n",
       "  background-repeat: no-repeat;\n",
       "  background-position: center center;\n",
       "}\n",
       "\n",
       "/* Parallel-specific style estimator block */\n",
       "\n",
       "#sk-container-id-9 div.sk-parallel-item::after {\n",
       "  content: \"\";\n",
       "  width: 100%;\n",
       "  border-bottom: 2px solid var(--sklearn-color-text-on-default-background);\n",
       "  flex-grow: 1;\n",
       "}\n",
       "\n",
       "#sk-container-id-9 div.sk-parallel {\n",
       "  display: flex;\n",
       "  align-items: stretch;\n",
       "  justify-content: center;\n",
       "  background-color: var(--sklearn-color-background);\n",
       "  position: relative;\n",
       "}\n",
       "\n",
       "#sk-container-id-9 div.sk-parallel-item {\n",
       "  display: flex;\n",
       "  flex-direction: column;\n",
       "}\n",
       "\n",
       "#sk-container-id-9 div.sk-parallel-item:first-child::after {\n",
       "  align-self: flex-end;\n",
       "  width: 50%;\n",
       "}\n",
       "\n",
       "#sk-container-id-9 div.sk-parallel-item:last-child::after {\n",
       "  align-self: flex-start;\n",
       "  width: 50%;\n",
       "}\n",
       "\n",
       "#sk-container-id-9 div.sk-parallel-item:only-child::after {\n",
       "  width: 0;\n",
       "}\n",
       "\n",
       "/* Serial-specific style estimator block */\n",
       "\n",
       "#sk-container-id-9 div.sk-serial {\n",
       "  display: flex;\n",
       "  flex-direction: column;\n",
       "  align-items: center;\n",
       "  background-color: var(--sklearn-color-background);\n",
       "  padding-right: 1em;\n",
       "  padding-left: 1em;\n",
       "}\n",
       "\n",
       "\n",
       "/* Toggleable style: style used for estimator/Pipeline/ColumnTransformer box that is\n",
       "clickable and can be expanded/collapsed.\n",
       "- Pipeline and ColumnTransformer use this feature and define the default style\n",
       "- Estimators will overwrite some part of the style using the `sk-estimator` class\n",
       "*/\n",
       "\n",
       "/* Pipeline and ColumnTransformer style (default) */\n",
       "\n",
       "#sk-container-id-9 div.sk-toggleable {\n",
       "  /* Default theme specific background. It is overwritten whether we have a\n",
       "  specific estimator or a Pipeline/ColumnTransformer */\n",
       "  background-color: var(--sklearn-color-background);\n",
       "}\n",
       "\n",
       "/* Toggleable label */\n",
       "#sk-container-id-9 label.sk-toggleable__label {\n",
       "  cursor: pointer;\n",
       "  display: flex;\n",
       "  width: 100%;\n",
       "  margin-bottom: 0;\n",
       "  padding: 0.5em;\n",
       "  box-sizing: border-box;\n",
       "  text-align: center;\n",
       "  align-items: start;\n",
       "  justify-content: space-between;\n",
       "  gap: 0.5em;\n",
       "}\n",
       "\n",
       "#sk-container-id-9 label.sk-toggleable__label .caption {\n",
       "  font-size: 0.6rem;\n",
       "  font-weight: lighter;\n",
       "  color: var(--sklearn-color-text-muted);\n",
       "}\n",
       "\n",
       "#sk-container-id-9 label.sk-toggleable__label-arrow:before {\n",
       "  /* Arrow on the left of the label */\n",
       "  content: \"▸\";\n",
       "  float: left;\n",
       "  margin-right: 0.25em;\n",
       "  color: var(--sklearn-color-icon);\n",
       "}\n",
       "\n",
       "#sk-container-id-9 label.sk-toggleable__label-arrow:hover:before {\n",
       "  color: var(--sklearn-color-text);\n",
       "}\n",
       "\n",
       "/* Toggleable content - dropdown */\n",
       "\n",
       "#sk-container-id-9 div.sk-toggleable__content {\n",
       "  max-height: 0;\n",
       "  max-width: 0;\n",
       "  overflow: hidden;\n",
       "  text-align: left;\n",
       "  /* unfitted */\n",
       "  background-color: var(--sklearn-color-unfitted-level-0);\n",
       "}\n",
       "\n",
       "#sk-container-id-9 div.sk-toggleable__content.fitted {\n",
       "  /* fitted */\n",
       "  background-color: var(--sklearn-color-fitted-level-0);\n",
       "}\n",
       "\n",
       "#sk-container-id-9 div.sk-toggleable__content pre {\n",
       "  margin: 0.2em;\n",
       "  border-radius: 0.25em;\n",
       "  color: var(--sklearn-color-text);\n",
       "  /* unfitted */\n",
       "  background-color: var(--sklearn-color-unfitted-level-0);\n",
       "}\n",
       "\n",
       "#sk-container-id-9 div.sk-toggleable__content.fitted pre {\n",
       "  /* unfitted */\n",
       "  background-color: var(--sklearn-color-fitted-level-0);\n",
       "}\n",
       "\n",
       "#sk-container-id-9 input.sk-toggleable__control:checked~div.sk-toggleable__content {\n",
       "  /* Expand drop-down */\n",
       "  max-height: 200px;\n",
       "  max-width: 100%;\n",
       "  overflow: auto;\n",
       "}\n",
       "\n",
       "#sk-container-id-9 input.sk-toggleable__control:checked~label.sk-toggleable__label-arrow:before {\n",
       "  content: \"▾\";\n",
       "}\n",
       "\n",
       "/* Pipeline/ColumnTransformer-specific style */\n",
       "\n",
       "#sk-container-id-9 div.sk-label input.sk-toggleable__control:checked~label.sk-toggleable__label {\n",
       "  color: var(--sklearn-color-text);\n",
       "  background-color: var(--sklearn-color-unfitted-level-2);\n",
       "}\n",
       "\n",
       "#sk-container-id-9 div.sk-label.fitted input.sk-toggleable__control:checked~label.sk-toggleable__label {\n",
       "  background-color: var(--sklearn-color-fitted-level-2);\n",
       "}\n",
       "\n",
       "/* Estimator-specific style */\n",
       "\n",
       "/* Colorize estimator box */\n",
       "#sk-container-id-9 div.sk-estimator input.sk-toggleable__control:checked~label.sk-toggleable__label {\n",
       "  /* unfitted */\n",
       "  background-color: var(--sklearn-color-unfitted-level-2);\n",
       "}\n",
       "\n",
       "#sk-container-id-9 div.sk-estimator.fitted input.sk-toggleable__control:checked~label.sk-toggleable__label {\n",
       "  /* fitted */\n",
       "  background-color: var(--sklearn-color-fitted-level-2);\n",
       "}\n",
       "\n",
       "#sk-container-id-9 div.sk-label label.sk-toggleable__label,\n",
       "#sk-container-id-9 div.sk-label label {\n",
       "  /* The background is the default theme color */\n",
       "  color: var(--sklearn-color-text-on-default-background);\n",
       "}\n",
       "\n",
       "/* On hover, darken the color of the background */\n",
       "#sk-container-id-9 div.sk-label:hover label.sk-toggleable__label {\n",
       "  color: var(--sklearn-color-text);\n",
       "  background-color: var(--sklearn-color-unfitted-level-2);\n",
       "}\n",
       "\n",
       "/* Label box, darken color on hover, fitted */\n",
       "#sk-container-id-9 div.sk-label.fitted:hover label.sk-toggleable__label.fitted {\n",
       "  color: var(--sklearn-color-text);\n",
       "  background-color: var(--sklearn-color-fitted-level-2);\n",
       "}\n",
       "\n",
       "/* Estimator label */\n",
       "\n",
       "#sk-container-id-9 div.sk-label label {\n",
       "  font-family: monospace;\n",
       "  font-weight: bold;\n",
       "  display: inline-block;\n",
       "  line-height: 1.2em;\n",
       "}\n",
       "\n",
       "#sk-container-id-9 div.sk-label-container {\n",
       "  text-align: center;\n",
       "}\n",
       "\n",
       "/* Estimator-specific */\n",
       "#sk-container-id-9 div.sk-estimator {\n",
       "  font-family: monospace;\n",
       "  border: 1px dotted var(--sklearn-color-border-box);\n",
       "  border-radius: 0.25em;\n",
       "  box-sizing: border-box;\n",
       "  margin-bottom: 0.5em;\n",
       "  /* unfitted */\n",
       "  background-color: var(--sklearn-color-unfitted-level-0);\n",
       "}\n",
       "\n",
       "#sk-container-id-9 div.sk-estimator.fitted {\n",
       "  /* fitted */\n",
       "  background-color: var(--sklearn-color-fitted-level-0);\n",
       "}\n",
       "\n",
       "/* on hover */\n",
       "#sk-container-id-9 div.sk-estimator:hover {\n",
       "  /* unfitted */\n",
       "  background-color: var(--sklearn-color-unfitted-level-2);\n",
       "}\n",
       "\n",
       "#sk-container-id-9 div.sk-estimator.fitted:hover {\n",
       "  /* fitted */\n",
       "  background-color: var(--sklearn-color-fitted-level-2);\n",
       "}\n",
       "\n",
       "/* Specification for estimator info (e.g. \"i\" and \"?\") */\n",
       "\n",
       "/* Common style for \"i\" and \"?\" */\n",
       "\n",
       ".sk-estimator-doc-link,\n",
       "a:link.sk-estimator-doc-link,\n",
       "a:visited.sk-estimator-doc-link {\n",
       "  float: right;\n",
       "  font-size: smaller;\n",
       "  line-height: 1em;\n",
       "  font-family: monospace;\n",
       "  background-color: var(--sklearn-color-background);\n",
       "  border-radius: 1em;\n",
       "  height: 1em;\n",
       "  width: 1em;\n",
       "  text-decoration: none !important;\n",
       "  margin-left: 0.5em;\n",
       "  text-align: center;\n",
       "  /* unfitted */\n",
       "  border: var(--sklearn-color-unfitted-level-1) 1pt solid;\n",
       "  color: var(--sklearn-color-unfitted-level-1);\n",
       "}\n",
       "\n",
       ".sk-estimator-doc-link.fitted,\n",
       "a:link.sk-estimator-doc-link.fitted,\n",
       "a:visited.sk-estimator-doc-link.fitted {\n",
       "  /* fitted */\n",
       "  border: var(--sklearn-color-fitted-level-1) 1pt solid;\n",
       "  color: var(--sklearn-color-fitted-level-1);\n",
       "}\n",
       "\n",
       "/* On hover */\n",
       "div.sk-estimator:hover .sk-estimator-doc-link:hover,\n",
       ".sk-estimator-doc-link:hover,\n",
       "div.sk-label-container:hover .sk-estimator-doc-link:hover,\n",
       ".sk-estimator-doc-link:hover {\n",
       "  /* unfitted */\n",
       "  background-color: var(--sklearn-color-unfitted-level-3);\n",
       "  color: var(--sklearn-color-background);\n",
       "  text-decoration: none;\n",
       "}\n",
       "\n",
       "div.sk-estimator.fitted:hover .sk-estimator-doc-link.fitted:hover,\n",
       ".sk-estimator-doc-link.fitted:hover,\n",
       "div.sk-label-container:hover .sk-estimator-doc-link.fitted:hover,\n",
       ".sk-estimator-doc-link.fitted:hover {\n",
       "  /* fitted */\n",
       "  background-color: var(--sklearn-color-fitted-level-3);\n",
       "  color: var(--sklearn-color-background);\n",
       "  text-decoration: none;\n",
       "}\n",
       "\n",
       "/* Span, style for the box shown on hovering the info icon */\n",
       ".sk-estimator-doc-link span {\n",
       "  display: none;\n",
       "  z-index: 9999;\n",
       "  position: relative;\n",
       "  font-weight: normal;\n",
       "  right: .2ex;\n",
       "  padding: .5ex;\n",
       "  margin: .5ex;\n",
       "  width: min-content;\n",
       "  min-width: 20ex;\n",
       "  max-width: 50ex;\n",
       "  color: var(--sklearn-color-text);\n",
       "  box-shadow: 2pt 2pt 4pt #999;\n",
       "  /* unfitted */\n",
       "  background: var(--sklearn-color-unfitted-level-0);\n",
       "  border: .5pt solid var(--sklearn-color-unfitted-level-3);\n",
       "}\n",
       "\n",
       ".sk-estimator-doc-link.fitted span {\n",
       "  /* fitted */\n",
       "  background: var(--sklearn-color-fitted-level-0);\n",
       "  border: var(--sklearn-color-fitted-level-3);\n",
       "}\n",
       "\n",
       ".sk-estimator-doc-link:hover span {\n",
       "  display: block;\n",
       "}\n",
       "\n",
       "/* \"?\"-specific style due to the `<a>` HTML tag */\n",
       "\n",
       "#sk-container-id-9 a.estimator_doc_link {\n",
       "  float: right;\n",
       "  font-size: 1rem;\n",
       "  line-height: 1em;\n",
       "  font-family: monospace;\n",
       "  background-color: var(--sklearn-color-background);\n",
       "  border-radius: 1rem;\n",
       "  height: 1rem;\n",
       "  width: 1rem;\n",
       "  text-decoration: none;\n",
       "  /* unfitted */\n",
       "  color: var(--sklearn-color-unfitted-level-1);\n",
       "  border: var(--sklearn-color-unfitted-level-1) 1pt solid;\n",
       "}\n",
       "\n",
       "#sk-container-id-9 a.estimator_doc_link.fitted {\n",
       "  /* fitted */\n",
       "  border: var(--sklearn-color-fitted-level-1) 1pt solid;\n",
       "  color: var(--sklearn-color-fitted-level-1);\n",
       "}\n",
       "\n",
       "/* On hover */\n",
       "#sk-container-id-9 a.estimator_doc_link:hover {\n",
       "  /* unfitted */\n",
       "  background-color: var(--sklearn-color-unfitted-level-3);\n",
       "  color: var(--sklearn-color-background);\n",
       "  text-decoration: none;\n",
       "}\n",
       "\n",
       "#sk-container-id-9 a.estimator_doc_link.fitted:hover {\n",
       "  /* fitted */\n",
       "  background-color: var(--sklearn-color-fitted-level-3);\n",
       "}\n",
       "</style><div id=\"sk-container-id-9\" class=\"sk-top-container\"><div class=\"sk-text-repr-fallback\"><pre>DecisionTreeRegressor(max_leaf_nodes=20, random_state=30)</pre><b>In a Jupyter environment, please rerun this cell to show the HTML representation or trust the notebook. <br />On GitHub, the HTML representation is unable to render, please try loading this page with nbviewer.org.</b></div><div class=\"sk-container\" hidden><div class=\"sk-item\"><div class=\"sk-estimator fitted sk-toggleable\"><input class=\"sk-toggleable__control sk-hidden--visually\" id=\"sk-estimator-id-9\" type=\"checkbox\" checked><label for=\"sk-estimator-id-9\" class=\"sk-toggleable__label fitted sk-toggleable__label-arrow\"><div><div>DecisionTreeRegressor</div></div><div><a class=\"sk-estimator-doc-link fitted\" rel=\"noreferrer\" target=\"_blank\" href=\"https://scikit-learn.org/1.6/modules/generated/sklearn.tree.DecisionTreeRegressor.html\">?<span>Documentation for DecisionTreeRegressor</span></a><span class=\"sk-estimator-doc-link fitted\">i<span>Fitted</span></span></div></label><div class=\"sk-toggleable__content fitted\"><pre>DecisionTreeRegressor(max_leaf_nodes=20, random_state=30)</pre></div> </div></div></div></div>"
      ],
      "text/plain": [
       "DecisionTreeRegressor(max_leaf_nodes=20, random_state=30)"
      ]
     },
     "execution_count": 161,
     "metadata": {},
     "output_type": "execute_result"
    }
   ],
   "source": [
    "best "
   ]
  },
  {
   "cell_type": "markdown",
   "metadata": {},
   "source": [
    "Since the best fit model is previously defined in Q11, it has been recalled and will be used as the best model object."
   ]
  },
  {
   "cell_type": "markdown",
   "metadata": {},
   "source": [
    "#14 Using the best model predict on the tune data and print out the results."
   ]
  },
  {
   "cell_type": "code",
   "execution_count": 162,
   "metadata": {},
   "outputs": [
    {
     "name": "stdout",
     "output_type": "stream",
     "text": [
      "Tune RMSE: 1.705447161510892\n"
     ]
    }
   ],
   "source": [
    "tune_pred = best.predict(X_tune)\n",
    "\n",
    "# Calculate RMSE using math, not a package\n",
    "tune_mse = sum((y_tune - tune_pred) ** 2) / len(y_tune)\n",
    "tune_rmse = tune_mse ** 0.5\n",
    "print(\"Tune RMSE:\", tune_rmse)\n"
   ]
  },
  {
   "cell_type": "markdown",
   "metadata": {},
   "source": [
    "#15 How does the model perform on the tune data as compared to the training data?"
   ]
  },
  {
   "cell_type": "code",
   "execution_count": 163,
   "metadata": {},
   "outputs": [
    {
     "name": "stdout",
     "output_type": "stream",
     "text": [
      "Train RMSE: 1.817453119427274\n"
     ]
    }
   ],
   "source": [
    "train_mse = sum((y_train - best.predict(X_train)) ** 2) / len(y_train)\n",
    "train_rmse = train_mse ** 0.5\n",
    "\n",
    "print(\"Train RMSE:\", train_rmse)\n"
   ]
  },
  {
   "cell_type": "markdown",
   "metadata": {},
   "source": [
    "The model performs better on the tune data, showing that the model may be too simplistic and not complex enough to capture the full context of the data."
   ]
  },
  {
   "cell_type": "markdown",
   "metadata": {},
   "source": [
    "#16 What five movies are predicted to have the lowest gross revenue from the tune set? "
   ]
  },
  {
   "cell_type": "code",
   "execution_count": 164,
   "metadata": {},
   "outputs": [
    {
     "name": "stdout",
     "output_type": "stream",
     "text": [
      "Lowest gross Revenue Movies:\n",
      "                                            movie_title     gross\n",
      "4750  Finishing the Game: The Search for a New Bruce...   52850.0\n",
      "4713                                     Water & Power    79043.0\n",
      "3418                                         Pathology   108662.0\n",
      "1323                                      The Warlords   128978.0\n",
      "4587  Once in a Lifetime: The Extraordinary Story of...  144431.0\n"
     ]
    }
   ],
   "source": [
    "tune_pred = best.predict(X_tune)\n",
    "#Add predicted score to the DataFrame\n",
    "tune_results = pd.DataFrame({'predicted_score': tune_pred}, index=X_tune.index)\n",
    "#add movie titles and gross back in\n",
    "tune_results = tune_results.merge(movie[['movie_title']], left_index=True, right_index=True)\n",
    "tune_results = tune_results.merge(movie[['gross']], left_index=True, right_index=True)\n",
    "\n",
    "# Sort the DataFrame by the 'gross' column in ascending order\n",
    "low_gross_movies = tune_results.sort_values(by='gross', ascending=True)\n",
    "\n",
    "# Select the top 5 rows\n",
    "five_movies = low_gross_movies.head(5)\n",
    "\n",
    "print(\"Lowest gross Revenue Movies:\")\n",
    "print(five_movies[['movie_title', 'gross']])"
   ]
  },
  {
   "cell_type": "markdown",
   "metadata": {},
   "source": [
    "The lowest gross revenue movies are Finishing the Game, Water & Power, Pathology, The Warlords, and Once in a Lifetime."
   ]
  },
  {
   "cell_type": "markdown",
   "metadata": {},
   "source": [
    "#17 As a data scientist you are always looking to improve your results. What are some ideas you have to improve the model? Have you ask...WHAT IF?!"
   ]
  },
  {
   "cell_type": "markdown",
   "metadata": {},
   "source": [
    "I think that the model is underfitting the data based on the results of the train and tune data. I think the best thing would be to add more parameters or possibly different parameters to see if there is a method to lower the error and increase the accuracy without overfitting the data. I would want to try two different parameters such as splitter and min impurity decreases to see what the change in complexity would be. "
   ]
  },
  {
   "cell_type": "markdown",
   "metadata": {},
   "source": [
    "#18 Experiment using your what if ideas (two is fine). Did the model improve? If so, how much? If not, what did you learn? (You don't need to include all the \"what if\" code just speak to what you tried and what you learned)."
   ]
  },
  {
   "cell_type": "code",
   "execution_count": 172,
   "metadata": {},
   "outputs": [
    {
     "name": "stdout",
     "output_type": "stream",
     "text": [
      "DecisionTreeRegressor(max_depth=5, min_impurity_decrease=0.0015,\n",
      "                      random_state=30)\n",
      "Train RMSE: 1.796771497668712\n"
     ]
    }
   ],
   "source": [
    "param1={\n",
    "    \"splitter\":[\"best\",\"random\"],\n",
    "    'min_impurity_decrease':[0.00005,0.0001,0.0002,0.0005,0.001,0.0015,0.002,0.005,0.01],\n",
    "   \"max_depth\":[1,2,3,4,5,6,7,8,9,10],\n",
    "        }\n",
    "search1 = GridSearchCV(reg, param1, scoring=scoring, n_jobs=-1, cv=kf,refit='neg_mean_squared_error')\n",
    "model1 = search1.fit(X_train, y_train)\n",
    "best1= model1.best_estimator_\n",
    "print(best1)\n",
    "\n",
    "train_mse1 = sum((y_train - best1.predict(X_train)) ** 2) / len(y_train)\n",
    "train_rmse1 = train_mse1 ** 0.5\n",
    "\n",
    "print(\"Train RMSE:\", train_rmse1)"
   ]
  },
  {
   "cell_type": "markdown",
   "metadata": {},
   "source": [
    "This showed slight improvement in the train data, but it was not improved by much. I learned that there may need to be a more drastic approach to properly fitting the data and would love to try a random forest model to see if that can better capture the data without aggressively overfitting the data."
   ]
  },
  {
   "cell_type": "markdown",
   "metadata": {},
   "source": [
    "#19 Use the best model to predict on the test data and print out the evaluation results."
   ]
  },
  {
   "cell_type": "code",
   "execution_count": 166,
   "metadata": {},
   "outputs": [
    {
     "name": "stdout",
     "output_type": "stream",
     "text": [
      "Lowest gross Revenue Movies:\n",
      "              movie_title   gross\n",
      "3242  The Oxford Murders   3607.0\n",
      "5037           Newlyweds   4584.0\n",
      "4604            Sparkler   5494.0\n",
      "4315           Eden Lake   5824.0\n",
      "4516    Dead Man's Shoes   6013.0\n",
      "Test RMSE: 1.7895202982179006\n"
     ]
    }
   ],
   "source": [
    "best_pred = best.predict(X_test)\n",
    "test_results = pd.DataFrame({'predicted_score': best_pred}, index=X_test.index)\n",
    "test_results = test_results.merge(movie[['movie_title']], left_index=True, right_index=True)\n",
    "test_results = test_results.merge(movie[['gross']], left_index=True, right_index=True)\n",
    "# Sort the DataFrame by the 'gross' column in ascending order\n",
    "low_gross_movies = test_results.sort_values(by='gross', ascending=True)\n",
    "\n",
    "# Select the top 5 rows\n",
    "five_movies = low_gross_movies.head(5)\n",
    "\n",
    "print(\"Lowest gross Revenue Movies:\")\n",
    "print(five_movies[['movie_title', 'gross']])\n",
    "\n",
    "\n",
    "test_mse = sum((y_test - best.predict(X_test)) ** 2) / len(y_test)\n",
    "test_rmse = test_mse ** 0.5\n",
    "\n",
    "print(\"Test RMSE:\", test_rmse)"
   ]
  },
  {
   "cell_type": "markdown",
   "metadata": {},
   "source": [
    "#20 Does the model perform well on the test data when compared to the training and tune data? Why or why not? "
   ]
  },
  {
   "cell_type": "markdown",
   "metadata": {},
   "source": [
    "It performs in a similar manner in between the tune and train data. This makes sense as the model may be underfit and not complex enough to capture the data. "
   ]
  },
  {
   "cell_type": "markdown",
   "metadata": {},
   "source": [
    "#21 Where are the errors occurring in your predictions? Are they systematic or random? In either case, what are the implications of this?"
   ]
  },
  {
   "cell_type": "markdown",
   "metadata": {},
   "source": [
    "The errors in my predictions are most likely due to not finding the best possible combination of parameters and scoring metric to most accurately fit the data. This leads to predictions that may give some insight, but not enough to make a proper decision on the data. This is systematic as the error can be replicated each time."
   ]
  },
  {
   "cell_type": "markdown",
   "metadata": {},
   "source": [
    "#22 Summarize what you learned along the way and make recommendations on how this could be used moving forward, being careful not to over promise."
   ]
  },
  {
   "cell_type": "markdown",
   "metadata": {},
   "source": [
    "A regression decision tree model is a good method to start your understanding of the data, but with complex and large data sets, it is important to try to take as many variables into account. I would recommend a more complex method as a random forest which may help with giving more possibilities in predicting the data. I would also look at which parameters lead to the most efficient and accurate results, and focus on choosing a best fit model while watching the scoring metrics to ensure that they are not improving in such small amounts showing signs of overfitting. "
   ]
  }
 ],
 "metadata": {
  "kernelspec": {
   "display_name": "Python 3",
   "language": "python",
   "name": "python3"
  },
  "language_info": {
   "codemirror_mode": {
    "name": "ipython",
    "version": 3
   },
   "file_extension": ".py",
   "mimetype": "text/x-python",
   "name": "python",
   "nbconvert_exporter": "python",
   "pygments_lexer": "ipython3",
   "version": "3.12.8"
  }
 },
 "nbformat": 4,
 "nbformat_minor": 2
}
