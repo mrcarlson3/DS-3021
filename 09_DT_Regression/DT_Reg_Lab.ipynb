{
 "cells": [
  {
   "cell_type": "markdown",
   "metadata": {},
   "source": [
    "\n",
    "Congrats....again! Based off the amazing work you did on the classification model, you've been promoted to chief of all data scientists in Hollywood, your a total celebrity....among data scientists :).  \n",
    "\n",
    "Your boss, head of the studio, has now asked you to build a model to predict gross revenue in order to help them decide which movies to invest in.\n",
    "\n",
    "Once again, you would like to be able to explain the model to mere mortals but need a fairly robust and flexible approach so you've chosen to use decision trees to get started. \n",
    "\n",
    "In doing so...you leverage work you've done in the past to get the job done....you're a data scientist after all! "
   ]
  },
  {
   "cell_type": "code",
   "execution_count": 39,
   "metadata": {},
   "outputs": [],
   "source": [
    "import pandas as pd\n",
    "import numpy as np\n",
    "import matplotlib.pyplot as plt\n",
    "import graphviz\n",
    "from sklearn.model_selection import train_test_split,RepeatedKFold,GridSearchCV\n",
    "from sklearn.model_selection import train_test_split,GridSearchCV,RepeatedStratifiedKFold\n",
    "from sklearn import metrics\n",
    "from sklearn.metrics import ConfusionMatrixDisplay, get_scorer_names\n",
    "from sklearn.preprocessing import OrdinalEncoder\n",
    "from sklearn.tree import plot_tree, DecisionTreeClassifier, export_graphviz\n",
    "from matplotlib import pyplot as plt\n",
    "import seaborn as sns\n",
    "from sklearn import preprocessing\n",
    "import random\n",
    "from numpy import log\n",
    "from sklearn.tree import DecisionTreeRegressor, export_graphviz "
   ]
  },
  {
   "cell_type": "code",
   "execution_count": 40,
   "metadata": {},
   "outputs": [],
   "source": [
    "#1. Load the data\n",
    "#Sometimes need to set the working directory back out of a folder that we create a file in\n",
    "\n",
    "#import os\n",
    "#os.listdir()\n",
    "#print(os.getcwd())\n",
    "#os.chdir('c:\\\\Users\\\\Brian Wright\\\\Documents\\\\3001Python\\\\DS-3001')\n",
    "\n",
    "movie=pd.read_csv(\"../data/movie_metadata.csv\")\n",
    "\n"
   ]
  },
  {
   "cell_type": "markdown",
   "metadata": {},
   "source": [
    "#2 Ensure all the variables are classified correctly and collapse factor variables as needed."
   ]
  },
  {
   "cell_type": "code",
   "execution_count": 41,
   "metadata": {},
   "outputs": [
    {
     "data": {
      "application/vnd.microsoft.datawrangler.viewer.v0+json": {
       "columns": [
        {
         "name": "index",
         "rawType": "object",
         "type": "string"
        },
        {
         "name": "num_critic_for_reviews",
         "rawType": "float64",
         "type": "float"
        },
        {
         "name": "duration",
         "rawType": "float64",
         "type": "float"
        },
        {
         "name": "director_facebook_likes",
         "rawType": "float64",
         "type": "float"
        },
        {
         "name": "actor_3_facebook_likes",
         "rawType": "float64",
         "type": "float"
        },
        {
         "name": "actor_1_facebook_likes",
         "rawType": "float64",
         "type": "float"
        },
        {
         "name": "gross",
         "rawType": "float64",
         "type": "float"
        },
        {
         "name": "num_voted_users",
         "rawType": "float64",
         "type": "float"
        },
        {
         "name": "cast_total_facebook_likes",
         "rawType": "float64",
         "type": "float"
        },
        {
         "name": "facenumber_in_poster",
         "rawType": "float64",
         "type": "float"
        },
        {
         "name": "num_user_for_reviews",
         "rawType": "float64",
         "type": "float"
        },
        {
         "name": "budget",
         "rawType": "float64",
         "type": "float"
        },
        {
         "name": "title_year",
         "rawType": "float64",
         "type": "float"
        },
        {
         "name": "actor_2_facebook_likes",
         "rawType": "float64",
         "type": "float"
        },
        {
         "name": "imdb_score",
         "rawType": "float64",
         "type": "float"
        },
        {
         "name": "aspect_ratio",
         "rawType": "float64",
         "type": "float"
        },
        {
         "name": "movie_facebook_likes",
         "rawType": "float64",
         "type": "float"
        }
       ],
       "conversionMethod": "pd.DataFrame",
       "ref": "1929e057-4382-4800-9284-aba094ea4d30",
       "rows": [
        [
         "count",
         "4993.0",
         "5028.0",
         "4939.0",
         "5020.0",
         "5036.0",
         "4159.0",
         "5043.0",
         "5043.0",
         "5030.0",
         "5022.0",
         "4551.0",
         "4935.0",
         "5030.0",
         "5043.0",
         "4714.0",
         "5043.0"
        ],
        [
         "mean",
         "140.1942719807731",
         "107.2010739856802",
         "686.5092123911724",
         "645.0097609561753",
         "6560.04706115965",
         "48468407.52680933",
         "83668.16081697402",
         "9699.06385088241",
         "1.3711729622266402",
         "272.77080844285143",
         "39752620.436387606",
         "2002.4705167173252",
         "1651.7544731610337",
         "6.442137616498116",
         "2.22040305473059",
         "7525.9645052548085"
        ],
        [
         "std",
         "121.60167539623129",
         "25.197440808824194",
         "2813.3286068656744",
         "1665.0417284458586",
         "15020.759119984092",
         "68452990.43875284",
         "138485.25680596245",
         "18163.79912404591",
         "2.013575919996105",
         "377.9828855657686",
         "206114898.4486867",
         "12.47459891927072",
         "4042.4388626418736",
         "1.125115865732819",
         "1.3851125353032794",
         "19320.445109946588"
        ],
        [
         "min",
         "1.0",
         "7.0",
         "0.0",
         "0.0",
         "0.0",
         "162.0",
         "5.0",
         "0.0",
         "0.0",
         "1.0",
         "218.0",
         "1916.0",
         "0.0",
         "1.6",
         "1.18",
         "0.0"
        ],
        [
         "25%",
         "50.0",
         "93.0",
         "7.0",
         "133.0",
         "614.0",
         "5340987.5",
         "8593.5",
         "1411.0",
         "0.0",
         "65.0",
         "6000000.0",
         "1999.0",
         "281.0",
         "5.8",
         "1.85",
         "0.0"
        ],
        [
         "50%",
         "110.0",
         "103.0",
         "49.0",
         "371.5",
         "988.0",
         "25517500.0",
         "34359.0",
         "3090.0",
         "1.0",
         "156.0",
         "20000000.0",
         "2005.0",
         "595.0",
         "6.6",
         "2.35",
         "166.0"
        ],
        [
         "75%",
         "195.0",
         "118.0",
         "194.5",
         "636.0",
         "11000.0",
         "62309437.5",
         "96309.0",
         "13756.5",
         "2.0",
         "326.0",
         "45000000.0",
         "2011.0",
         "918.0",
         "7.2",
         "2.35",
         "3000.0"
        ],
        [
         "max",
         "813.0",
         "511.0",
         "23000.0",
         "23000.0",
         "640000.0",
         "760505847.0",
         "1689764.0",
         "656730.0",
         "43.0",
         "5060.0",
         "12215500000.0",
         "2016.0",
         "137000.0",
         "9.5",
         "16.0",
         "349000.0"
        ]
       ],
       "shape": {
        "columns": 16,
        "rows": 8
       }
      },
      "text/html": [
       "<div>\n",
       "<style scoped>\n",
       "    .dataframe tbody tr th:only-of-type {\n",
       "        vertical-align: middle;\n",
       "    }\n",
       "\n",
       "    .dataframe tbody tr th {\n",
       "        vertical-align: top;\n",
       "    }\n",
       "\n",
       "    .dataframe thead th {\n",
       "        text-align: right;\n",
       "    }\n",
       "</style>\n",
       "<table border=\"1\" class=\"dataframe\">\n",
       "  <thead>\n",
       "    <tr style=\"text-align: right;\">\n",
       "      <th></th>\n",
       "      <th>num_critic_for_reviews</th>\n",
       "      <th>duration</th>\n",
       "      <th>director_facebook_likes</th>\n",
       "      <th>actor_3_facebook_likes</th>\n",
       "      <th>actor_1_facebook_likes</th>\n",
       "      <th>gross</th>\n",
       "      <th>num_voted_users</th>\n",
       "      <th>cast_total_facebook_likes</th>\n",
       "      <th>facenumber_in_poster</th>\n",
       "      <th>num_user_for_reviews</th>\n",
       "      <th>budget</th>\n",
       "      <th>title_year</th>\n",
       "      <th>actor_2_facebook_likes</th>\n",
       "      <th>imdb_score</th>\n",
       "      <th>aspect_ratio</th>\n",
       "      <th>movie_facebook_likes</th>\n",
       "    </tr>\n",
       "  </thead>\n",
       "  <tbody>\n",
       "    <tr>\n",
       "      <th>count</th>\n",
       "      <td>4993.000000</td>\n",
       "      <td>5028.000000</td>\n",
       "      <td>4939.000000</td>\n",
       "      <td>5020.000000</td>\n",
       "      <td>5036.000000</td>\n",
       "      <td>4.159000e+03</td>\n",
       "      <td>5.043000e+03</td>\n",
       "      <td>5043.000000</td>\n",
       "      <td>5030.000000</td>\n",
       "      <td>5022.000000</td>\n",
       "      <td>4.551000e+03</td>\n",
       "      <td>4935.000000</td>\n",
       "      <td>5030.000000</td>\n",
       "      <td>5043.000000</td>\n",
       "      <td>4714.000000</td>\n",
       "      <td>5043.000000</td>\n",
       "    </tr>\n",
       "    <tr>\n",
       "      <th>mean</th>\n",
       "      <td>140.194272</td>\n",
       "      <td>107.201074</td>\n",
       "      <td>686.509212</td>\n",
       "      <td>645.009761</td>\n",
       "      <td>6560.047061</td>\n",
       "      <td>4.846841e+07</td>\n",
       "      <td>8.366816e+04</td>\n",
       "      <td>9699.063851</td>\n",
       "      <td>1.371173</td>\n",
       "      <td>272.770808</td>\n",
       "      <td>3.975262e+07</td>\n",
       "      <td>2002.470517</td>\n",
       "      <td>1651.754473</td>\n",
       "      <td>6.442138</td>\n",
       "      <td>2.220403</td>\n",
       "      <td>7525.964505</td>\n",
       "    </tr>\n",
       "    <tr>\n",
       "      <th>std</th>\n",
       "      <td>121.601675</td>\n",
       "      <td>25.197441</td>\n",
       "      <td>2813.328607</td>\n",
       "      <td>1665.041728</td>\n",
       "      <td>15020.759120</td>\n",
       "      <td>6.845299e+07</td>\n",
       "      <td>1.384853e+05</td>\n",
       "      <td>18163.799124</td>\n",
       "      <td>2.013576</td>\n",
       "      <td>377.982886</td>\n",
       "      <td>2.061149e+08</td>\n",
       "      <td>12.474599</td>\n",
       "      <td>4042.438863</td>\n",
       "      <td>1.125116</td>\n",
       "      <td>1.385113</td>\n",
       "      <td>19320.445110</td>\n",
       "    </tr>\n",
       "    <tr>\n",
       "      <th>min</th>\n",
       "      <td>1.000000</td>\n",
       "      <td>7.000000</td>\n",
       "      <td>0.000000</td>\n",
       "      <td>0.000000</td>\n",
       "      <td>0.000000</td>\n",
       "      <td>1.620000e+02</td>\n",
       "      <td>5.000000e+00</td>\n",
       "      <td>0.000000</td>\n",
       "      <td>0.000000</td>\n",
       "      <td>1.000000</td>\n",
       "      <td>2.180000e+02</td>\n",
       "      <td>1916.000000</td>\n",
       "      <td>0.000000</td>\n",
       "      <td>1.600000</td>\n",
       "      <td>1.180000</td>\n",
       "      <td>0.000000</td>\n",
       "    </tr>\n",
       "    <tr>\n",
       "      <th>25%</th>\n",
       "      <td>50.000000</td>\n",
       "      <td>93.000000</td>\n",
       "      <td>7.000000</td>\n",
       "      <td>133.000000</td>\n",
       "      <td>614.000000</td>\n",
       "      <td>5.340988e+06</td>\n",
       "      <td>8.593500e+03</td>\n",
       "      <td>1411.000000</td>\n",
       "      <td>0.000000</td>\n",
       "      <td>65.000000</td>\n",
       "      <td>6.000000e+06</td>\n",
       "      <td>1999.000000</td>\n",
       "      <td>281.000000</td>\n",
       "      <td>5.800000</td>\n",
       "      <td>1.850000</td>\n",
       "      <td>0.000000</td>\n",
       "    </tr>\n",
       "    <tr>\n",
       "      <th>50%</th>\n",
       "      <td>110.000000</td>\n",
       "      <td>103.000000</td>\n",
       "      <td>49.000000</td>\n",
       "      <td>371.500000</td>\n",
       "      <td>988.000000</td>\n",
       "      <td>2.551750e+07</td>\n",
       "      <td>3.435900e+04</td>\n",
       "      <td>3090.000000</td>\n",
       "      <td>1.000000</td>\n",
       "      <td>156.000000</td>\n",
       "      <td>2.000000e+07</td>\n",
       "      <td>2005.000000</td>\n",
       "      <td>595.000000</td>\n",
       "      <td>6.600000</td>\n",
       "      <td>2.350000</td>\n",
       "      <td>166.000000</td>\n",
       "    </tr>\n",
       "    <tr>\n",
       "      <th>75%</th>\n",
       "      <td>195.000000</td>\n",
       "      <td>118.000000</td>\n",
       "      <td>194.500000</td>\n",
       "      <td>636.000000</td>\n",
       "      <td>11000.000000</td>\n",
       "      <td>6.230944e+07</td>\n",
       "      <td>9.630900e+04</td>\n",
       "      <td>13756.500000</td>\n",
       "      <td>2.000000</td>\n",
       "      <td>326.000000</td>\n",
       "      <td>4.500000e+07</td>\n",
       "      <td>2011.000000</td>\n",
       "      <td>918.000000</td>\n",
       "      <td>7.200000</td>\n",
       "      <td>2.350000</td>\n",
       "      <td>3000.000000</td>\n",
       "    </tr>\n",
       "    <tr>\n",
       "      <th>max</th>\n",
       "      <td>813.000000</td>\n",
       "      <td>511.000000</td>\n",
       "      <td>23000.000000</td>\n",
       "      <td>23000.000000</td>\n",
       "      <td>640000.000000</td>\n",
       "      <td>7.605058e+08</td>\n",
       "      <td>1.689764e+06</td>\n",
       "      <td>656730.000000</td>\n",
       "      <td>43.000000</td>\n",
       "      <td>5060.000000</td>\n",
       "      <td>1.221550e+10</td>\n",
       "      <td>2016.000000</td>\n",
       "      <td>137000.000000</td>\n",
       "      <td>9.500000</td>\n",
       "      <td>16.000000</td>\n",
       "      <td>349000.000000</td>\n",
       "    </tr>\n",
       "  </tbody>\n",
       "</table>\n",
       "</div>"
      ],
      "text/plain": [
       "       num_critic_for_reviews     duration  director_facebook_likes  \\\n",
       "count             4993.000000  5028.000000              4939.000000   \n",
       "mean               140.194272   107.201074               686.509212   \n",
       "std                121.601675    25.197441              2813.328607   \n",
       "min                  1.000000     7.000000                 0.000000   \n",
       "25%                 50.000000    93.000000                 7.000000   \n",
       "50%                110.000000   103.000000                49.000000   \n",
       "75%                195.000000   118.000000               194.500000   \n",
       "max                813.000000   511.000000             23000.000000   \n",
       "\n",
       "       actor_3_facebook_likes  actor_1_facebook_likes         gross  \\\n",
       "count             5020.000000             5036.000000  4.159000e+03   \n",
       "mean               645.009761             6560.047061  4.846841e+07   \n",
       "std               1665.041728            15020.759120  6.845299e+07   \n",
       "min                  0.000000                0.000000  1.620000e+02   \n",
       "25%                133.000000              614.000000  5.340988e+06   \n",
       "50%                371.500000              988.000000  2.551750e+07   \n",
       "75%                636.000000            11000.000000  6.230944e+07   \n",
       "max              23000.000000           640000.000000  7.605058e+08   \n",
       "\n",
       "       num_voted_users  cast_total_facebook_likes  facenumber_in_poster  \\\n",
       "count     5.043000e+03                5043.000000           5030.000000   \n",
       "mean      8.366816e+04                9699.063851              1.371173   \n",
       "std       1.384853e+05               18163.799124              2.013576   \n",
       "min       5.000000e+00                   0.000000              0.000000   \n",
       "25%       8.593500e+03                1411.000000              0.000000   \n",
       "50%       3.435900e+04                3090.000000              1.000000   \n",
       "75%       9.630900e+04               13756.500000              2.000000   \n",
       "max       1.689764e+06              656730.000000             43.000000   \n",
       "\n",
       "       num_user_for_reviews        budget   title_year  \\\n",
       "count           5022.000000  4.551000e+03  4935.000000   \n",
       "mean             272.770808  3.975262e+07  2002.470517   \n",
       "std              377.982886  2.061149e+08    12.474599   \n",
       "min                1.000000  2.180000e+02  1916.000000   \n",
       "25%               65.000000  6.000000e+06  1999.000000   \n",
       "50%              156.000000  2.000000e+07  2005.000000   \n",
       "75%              326.000000  4.500000e+07  2011.000000   \n",
       "max             5060.000000  1.221550e+10  2016.000000   \n",
       "\n",
       "       actor_2_facebook_likes   imdb_score  aspect_ratio  movie_facebook_likes  \n",
       "count             5030.000000  5043.000000   4714.000000           5043.000000  \n",
       "mean              1651.754473     6.442138      2.220403           7525.964505  \n",
       "std               4042.438863     1.125116      1.385113          19320.445110  \n",
       "min                  0.000000     1.600000      1.180000              0.000000  \n",
       "25%                281.000000     5.800000      1.850000              0.000000  \n",
       "50%                595.000000     6.600000      2.350000            166.000000  \n",
       "75%                918.000000     7.200000      2.350000           3000.000000  \n",
       "max             137000.000000     9.500000     16.000000         349000.000000  "
      ]
     },
     "execution_count": 41,
     "metadata": {},
     "output_type": "execute_result"
    }
   ],
   "source": [
    "movie.describe()"
   ]
  },
  {
   "cell_type": "markdown",
   "metadata": {},
   "source": [
    "#3 Check for missing variables and correct as needed."
   ]
  },
  {
   "cell_type": "markdown",
   "metadata": {},
   "source": [
    "#4 Guess what, you don't need to scale the data, because DTs don't require this to be done, they make local greedy decisions...keeps getting easier, go to the next step."
   ]
  },
  {
   "cell_type": "markdown",
   "metadata": {},
   "source": [
    "#5 Determine the variance of the target variable, is it normally distributed? If not, you may want to transform the target variable. Why might this be important?"
   ]
  },
  {
   "cell_type": "markdown",
   "metadata": {},
   "source": [
    "#6 Split your data into test, tune, and train. (80/10/10)"
   ]
  },
  {
   "cell_type": "code",
   "execution_count": 42,
   "metadata": {},
   "outputs": [
    {
     "name": "stdout",
     "output_type": "stream",
     "text": [
      "Variance of Imdb scores groups by range: 193.20390310010393\n"
     ]
    }
   ],
   "source": [
    "np.random.seed(1)\n",
    "#Steps 2-6 are done in the following function:\n",
    "\n",
    "# Function drops unnecessary columns, fills in missing vals with mean, creates the score column with the binned imdb values, and creates the train/test/tune splits\n",
    "def clean_split_data(df, target, train_size=0.80, tune_size=0.10, random_state=21):\n",
    "    # Split independent and dependent variables\n",
    "    df = df[['num_critic_for_reviews','actor_1_facebook_likes','gross','num_voted_users','cast_total_facebook_likes','num_user_for_reviews','budget','imdb_score','movie_facebook_likes']]\n",
    "    df = df.fillna(df.mean(numeric_only=True))\n",
    "    #df['gross'] = pd.cut(df['gross'], bins=[-1, 50000000, 100000000, df['gross'].max()], labels=['low', 'medium', 'high'])\n",
    "    X = df.drop(columns=target)\n",
    "    y = df[target]\n",
    "    \n",
    "    # Calculate prevalence of the score\n",
    "    variance = y.value_counts().var()\n",
    "    print(\"Variance of Imdb scores groups by range:\", variance)\n",
    "    \n",
    "    # Split data into training and testing sets\n",
    "    X_train, X_temp, y_train, y_temp = train_test_split(X, y, train_size=train_size, random_state=random_state)\n",
    "    \n",
    "    # Split the temporary set into tuning and testing sets\n",
    "    X_tune, X_test, y_tune, y_test = train_test_split(X_temp, y_temp, train_size=tune_size, random_state=random_state+28)\n",
    "    \n",
    "    return X_train, X_tune, X_test, y_train, y_tune, y_test\n",
    "\n",
    "# Use the function to split the movie data\n",
    "X_train, X_tune, X_test, y_train, y_tune, y_test = clean_split_data(movie, 'gross')"
   ]
  },
  {
   "cell_type": "markdown",
   "metadata": {},
   "source": [
    "#7 Create the kfold object for cross validation."
   ]
  },
  {
   "cell_type": "code",
   "execution_count": 43,
   "metadata": {},
   "outputs": [],
   "source": [
    "# k fold object creation\n",
    "kf =RepeatedKFold(n_splits=10,n_repeats =5, random_state=42)"
   ]
  },
  {
   "cell_type": "markdown",
   "metadata": {},
   "source": [
    "#8 Create the scoring metric (several measures) you will use to evaluate your model and choose a hyperparamater to optimize."
   ]
  },
  {
   "cell_type": "code",
   "execution_count": 44,
   "metadata": {},
   "outputs": [],
   "source": [
    "#setting scoring metrics and param for grid search\n",
    "scoring = ['neg_mean_squared_error','r2','neg_mean_absolute_error']\n",
    "\n",
    "param={\"max_depth\" : [1,2,3,4,5,6,7,8,9,10,11,12,13,14,15,16,17,18,19,20]\n",
    "           }"
   ]
  },
  {
   "cell_type": "markdown",
   "metadata": {},
   "source": [
    "#9 Build the regression tree object. "
   ]
  },
  {
   "cell_type": "code",
   "execution_count": 45,
   "metadata": {},
   "outputs": [],
   "source": [
    "reg=DecisionTreeRegressor(random_state=30)\n",
    "\n",
    "search = GridSearchCV(reg, param, scoring=scoring, n_jobs=-1, cv=kf,refit='r2')"
   ]
  },
  {
   "cell_type": "markdown",
   "metadata": {},
   "source": [
    "#10 Fit the model to the training data."
   ]
  },
  {
   "cell_type": "code",
   "execution_count": 46,
   "metadata": {},
   "outputs": [],
   "source": [
    "model = search.fit(X_train, y_train)"
   ]
  },
  {
   "cell_type": "markdown",
   "metadata": {},
   "source": [
    "#11 Explore the results of the model. Print the output of the grid search. What is the best parameter and score?"
   ]
  },
  {
   "cell_type": "code",
   "execution_count": null,
   "metadata": {},
   "outputs": [
    {
     "name": "stdout",
     "output_type": "stream",
     "text": [
      "DecisionTreeRegressor(max_depth=4, random_state=30)\n"
     ]
    },
    {
     "data": {
      "image/png": "[encoded data removed]",
      "text/plain": [
       "<Figure size 2000x1000 with 1 Axes>"
      ]
     },
     "metadata": {},
     "output_type": "display_data"
    }
   ],
   "source": [
    "best= model.best_estimator_\n",
    "print(best)\n",
    "\n",
    "plt.figure(figsize=(20,10))\n",
    "plot_tree(best, feature_names=X_train.columns, class_names=y_train.unique(), filled=True, rounded=True)\n",
    "plt.show()"
   ]
  },
  {
   "cell_type": "code",
   "execution_count": 56,
   "metadata": {},
   "outputs": [
    {
     "data": {
      "text/html": [
       "<style type=\"text/css\">\n",
       "</style>\n",
       "<table id=\"T_3e9ec\">\n",
       "  <thead>\n",
       "    <tr>\n",
       "      <th id=\"T_3e9ec_level0_col0\" class=\"col_heading level0 col0\" >depth</th>\n",
       "      <th id=\"T_3e9ec_level0_col1\" class=\"col_heading level0 col1\" >rmse</th>\n",
       "      <th id=\"T_3e9ec_level0_col2\" class=\"col_heading level0 col2\" >r2</th>\n",
       "      <th id=\"T_3e9ec_level0_col3\" class=\"col_heading level0 col3\" >mae</th>\n",
       "      <th id=\"T_3e9ec_level0_col4\" class=\"col_heading level0 col4\" >rmseSD</th>\n",
       "      <th id=\"T_3e9ec_level0_col5\" class=\"col_heading level0 col5\" >r2SD</th>\n",
       "      <th id=\"T_3e9ec_level0_col6\" class=\"col_heading level0 col6\" >maeSD</th>\n",
       "    </tr>\n",
       "  </thead>\n",
       "  <tbody>\n",
       "    <tr>\n",
       "      <td id=\"T_3e9ec_row0_col0\" class=\"data row0 col0\" >1</td>\n",
       "      <td id=\"T_3e9ec_row0_col1\" class=\"data row0 col1\" >52265956.313446</td>\n",
       "      <td id=\"T_3e9ec_row0_col2\" class=\"data row0 col2\" >0.297753</td>\n",
       "      <td id=\"T_3e9ec_row0_col3\" class=\"data row0 col3\" >33588533.456794</td>\n",
       "      <td id=\"T_3e9ec_row0_col4\" class=\"data row0 col4\" >641462376349543.250000</td>\n",
       "      <td id=\"T_3e9ec_row0_col5\" class=\"data row0 col5\" >0.054755</td>\n",
       "      <td id=\"T_3e9ec_row0_col6\" class=\"data row0 col6\" >2146520.683172</td>\n",
       "    </tr>\n",
       "    <tr>\n",
       "      <td id=\"T_3e9ec_row1_col0\" class=\"data row1 col0\" >2</td>\n",
       "      <td id=\"T_3e9ec_row1_col1\" class=\"data row1 col1\" >46763885.785766</td>\n",
       "      <td id=\"T_3e9ec_row1_col2\" class=\"data row1 col2\" >0.436852</td>\n",
       "      <td id=\"T_3e9ec_row1_col3\" class=\"data row1 col3\" >31255163.762889</td>\n",
       "      <td id=\"T_3e9ec_row1_col4\" class=\"data row1 col4\" >516825348348488.875000</td>\n",
       "      <td id=\"T_3e9ec_row1_col5\" class=\"data row1 col5\" >0.055735</td>\n",
       "      <td id=\"T_3e9ec_row1_col6\" class=\"data row1 col6\" >1788097.463993</td>\n",
       "    </tr>\n",
       "    <tr>\n",
       "      <td id=\"T_3e9ec_row2_col0\" class=\"data row2 col0\" >3</td>\n",
       "      <td id=\"T_3e9ec_row2_col1\" class=\"data row2 col1\" >44586871.197312</td>\n",
       "      <td id=\"T_3e9ec_row2_col2\" class=\"data row2 col2\" >0.486224</td>\n",
       "      <td id=\"T_3e9ec_row2_col3\" class=\"data row2 col3\" >29903697.754709</td>\n",
       "      <td id=\"T_3e9ec_row2_col4\" class=\"data row2 col4\" >466800927195315.875000</td>\n",
       "      <td id=\"T_3e9ec_row2_col5\" class=\"data row2 col5\" >0.069618</td>\n",
       "      <td id=\"T_3e9ec_row2_col6\" class=\"data row2 col6\" >1772248.214568</td>\n",
       "    </tr>\n",
       "    <tr>\n",
       "      <td id=\"T_3e9ec_row3_col0\" class=\"data row3 col0\" >4</td>\n",
       "      <td id=\"T_3e9ec_row3_col1\" class=\"data row3 col1\" >43876539.581351</td>\n",
       "      <td id=\"T_3e9ec_row3_col2\" class=\"data row3 col2\" >0.499222</td>\n",
       "      <td id=\"T_3e9ec_row3_col3\" class=\"data row3 col3\" >29427388.535720</td>\n",
       "      <td id=\"T_3e9ec_row3_col4\" class=\"data row3 col4\" >415129166919691.250000</td>\n",
       "      <td id=\"T_3e9ec_row3_col5\" class=\"data row3 col5\" >0.080290</td>\n",
       "      <td id=\"T_3e9ec_row3_col6\" class=\"data row3 col6\" >1736483.675777</td>\n",
       "    </tr>\n",
       "    <tr>\n",
       "      <td id=\"T_3e9ec_row4_col0\" class=\"data row4 col0\" >5</td>\n",
       "      <td id=\"T_3e9ec_row4_col1\" class=\"data row4 col1\" >44389997.762064</td>\n",
       "      <td id=\"T_3e9ec_row4_col2\" class=\"data row4 col2\" >0.487284</td>\n",
       "      <td id=\"T_3e9ec_row4_col3\" class=\"data row4 col3\" >28718978.828808</td>\n",
       "      <td id=\"T_3e9ec_row4_col4\" class=\"data row4 col4\" >507867072016456.812500</td>\n",
       "      <td id=\"T_3e9ec_row4_col5\" class=\"data row4 col5\" >0.105348</td>\n",
       "      <td id=\"T_3e9ec_row4_col6\" class=\"data row4 col6\" >1933480.396903</td>\n",
       "    </tr>\n",
       "    <tr>\n",
       "      <td id=\"T_3e9ec_row5_col0\" class=\"data row5 col0\" >6</td>\n",
       "      <td id=\"T_3e9ec_row5_col1\" class=\"data row5 col1\" >45743772.748212</td>\n",
       "      <td id=\"T_3e9ec_row5_col2\" class=\"data row5 col2\" >0.456371</td>\n",
       "      <td id=\"T_3e9ec_row5_col3\" class=\"data row5 col3\" >28761974.661573</td>\n",
       "      <td id=\"T_3e9ec_row5_col4\" class=\"data row5 col4\" >540782421696642.562500</td>\n",
       "      <td id=\"T_3e9ec_row5_col5\" class=\"data row5 col5\" >0.110092</td>\n",
       "      <td id=\"T_3e9ec_row5_col6\" class=\"data row5 col6\" >1987071.419040</td>\n",
       "    </tr>\n",
       "    <tr>\n",
       "      <td id=\"T_3e9ec_row6_col0\" class=\"data row6 col0\" >7</td>\n",
       "      <td id=\"T_3e9ec_row6_col1\" class=\"data row6 col1\" >46651637.163249</td>\n",
       "      <td id=\"T_3e9ec_row6_col2\" class=\"data row6 col2\" >0.431996</td>\n",
       "      <td id=\"T_3e9ec_row6_col3\" class=\"data row6 col3\" >28716075.067202</td>\n",
       "      <td id=\"T_3e9ec_row6_col4\" class=\"data row6 col4\" >591165084829835.125000</td>\n",
       "      <td id=\"T_3e9ec_row6_col5\" class=\"data row6 col5\" >0.136562</td>\n",
       "      <td id=\"T_3e9ec_row6_col6\" class=\"data row6 col6\" >2075521.892885</td>\n",
       "    </tr>\n",
       "    <tr>\n",
       "      <td id=\"T_3e9ec_row7_col0\" class=\"data row7 col0\" >8</td>\n",
       "      <td id=\"T_3e9ec_row7_col1\" class=\"data row7 col1\" >47184759.000660</td>\n",
       "      <td id=\"T_3e9ec_row7_col2\" class=\"data row7 col2\" >0.421327</td>\n",
       "      <td id=\"T_3e9ec_row7_col3\" class=\"data row7 col3\" >28738859.602717</td>\n",
       "      <td id=\"T_3e9ec_row7_col4\" class=\"data row7 col4\" >544336503315619.312500</td>\n",
       "      <td id=\"T_3e9ec_row7_col5\" class=\"data row7 col5\" >0.109393</td>\n",
       "      <td id=\"T_3e9ec_row7_col6\" class=\"data row7 col6\" >2034608.839109</td>\n",
       "    </tr>\n",
       "    <tr>\n",
       "      <td id=\"T_3e9ec_row8_col0\" class=\"data row8 col0\" >9</td>\n",
       "      <td id=\"T_3e9ec_row8_col1\" class=\"data row8 col1\" >48747171.336492</td>\n",
       "      <td id=\"T_3e9ec_row8_col2\" class=\"data row8 col2\" >0.379184</td>\n",
       "      <td id=\"T_3e9ec_row8_col3\" class=\"data row8 col3\" >29311141.204249</td>\n",
       "      <td id=\"T_3e9ec_row8_col4\" class=\"data row8 col4\" >514452148900845.437500</td>\n",
       "      <td id=\"T_3e9ec_row8_col5\" class=\"data row8 col5\" >0.114926</td>\n",
       "      <td id=\"T_3e9ec_row8_col6\" class=\"data row8 col6\" >1942457.757508</td>\n",
       "    </tr>\n",
       "    <tr>\n",
       "      <td id=\"T_3e9ec_row9_col0\" class=\"data row9 col0\" >10</td>\n",
       "      <td id=\"T_3e9ec_row9_col1\" class=\"data row9 col1\" >50081187.863513</td>\n",
       "      <td id=\"T_3e9ec_row9_col2\" class=\"data row9 col2\" >0.343248</td>\n",
       "      <td id=\"T_3e9ec_row9_col3\" class=\"data row9 col3\" >29718643.791140</td>\n",
       "      <td id=\"T_3e9ec_row9_col4\" class=\"data row9 col4\" >549857874009949.875000</td>\n",
       "      <td id=\"T_3e9ec_row9_col5\" class=\"data row9 col5\" >0.127277</td>\n",
       "      <td id=\"T_3e9ec_row9_col6\" class=\"data row9 col6\" >2112438.465328</td>\n",
       "    </tr>\n",
       "    <tr>\n",
       "      <td id=\"T_3e9ec_row10_col0\" class=\"data row10 col0\" >11</td>\n",
       "      <td id=\"T_3e9ec_row10_col1\" class=\"data row10 col1\" >50965952.254726</td>\n",
       "      <td id=\"T_3e9ec_row10_col2\" class=\"data row10 col2\" >0.317886</td>\n",
       "      <td id=\"T_3e9ec_row10_col3\" class=\"data row10 col3\" >30212455.152488</td>\n",
       "      <td id=\"T_3e9ec_row10_col4\" class=\"data row10 col4\" >635804582847672.500000</td>\n",
       "      <td id=\"T_3e9ec_row10_col5\" class=\"data row10 col5\" >0.163542</td>\n",
       "      <td id=\"T_3e9ec_row10_col6\" class=\"data row10 col6\" >2238250.194370</td>\n",
       "    </tr>\n",
       "    <tr>\n",
       "      <td id=\"T_3e9ec_row11_col0\" class=\"data row11 col0\" >12</td>\n",
       "      <td id=\"T_3e9ec_row11_col1\" class=\"data row11 col1\" >51135141.607051</td>\n",
       "      <td id=\"T_3e9ec_row11_col2\" class=\"data row11 col2\" >0.312906</td>\n",
       "      <td id=\"T_3e9ec_row11_col3\" class=\"data row11 col3\" >30488535.578271</td>\n",
       "      <td id=\"T_3e9ec_row11_col4\" class=\"data row11 col4\" >537806046108789.437500</td>\n",
       "      <td id=\"T_3e9ec_row11_col5\" class=\"data row11 col5\" >0.138008</td>\n",
       "      <td id=\"T_3e9ec_row11_col6\" class=\"data row11 col6\" >2014334.990027</td>\n",
       "    </tr>\n",
       "    <tr>\n",
       "      <td id=\"T_3e9ec_row12_col0\" class=\"data row12 col0\" >13</td>\n",
       "      <td id=\"T_3e9ec_row12_col1\" class=\"data row12 col1\" >51764267.864050</td>\n",
       "      <td id=\"T_3e9ec_row12_col2\" class=\"data row12 col2\" >0.296241</td>\n",
       "      <td id=\"T_3e9ec_row12_col3\" class=\"data row12 col3\" >30886136.642281</td>\n",
       "      <td id=\"T_3e9ec_row12_col4\" class=\"data row12 col4\" >533079736458280.875000</td>\n",
       "      <td id=\"T_3e9ec_row12_col5\" class=\"data row12 col5\" >0.133973</td>\n",
       "      <td id=\"T_3e9ec_row12_col6\" class=\"data row12 col6\" >2125546.482680</td>\n",
       "    </tr>\n",
       "    <tr>\n",
       "      <td id=\"T_3e9ec_row13_col0\" class=\"data row13 col0\" >14</td>\n",
       "      <td id=\"T_3e9ec_row13_col1\" class=\"data row13 col1\" >51883533.867090</td>\n",
       "      <td id=\"T_3e9ec_row13_col2\" class=\"data row13 col2\" >0.290122</td>\n",
       "      <td id=\"T_3e9ec_row13_col3\" class=\"data row13 col3\" >31034199.637078</td>\n",
       "      <td id=\"T_3e9ec_row13_col4\" class=\"data row13 col4\" >554250732790288.750000</td>\n",
       "      <td id=\"T_3e9ec_row13_col5\" class=\"data row13 col5\" >0.156511</td>\n",
       "      <td id=\"T_3e9ec_row13_col6\" class=\"data row13 col6\" >2069985.837358</td>\n",
       "    </tr>\n",
       "    <tr>\n",
       "      <td id=\"T_3e9ec_row14_col0\" class=\"data row14 col0\" >15</td>\n",
       "      <td id=\"T_3e9ec_row14_col1\" class=\"data row14 col1\" >53074880.273714</td>\n",
       "      <td id=\"T_3e9ec_row14_col2\" class=\"data row14 col2\" >0.256651</td>\n",
       "      <td id=\"T_3e9ec_row14_col3\" class=\"data row14 col3\" >31604340.041866</td>\n",
       "      <td id=\"T_3e9ec_row14_col4\" class=\"data row14 col4\" >586624366663945.625000</td>\n",
       "      <td id=\"T_3e9ec_row14_col5\" class=\"data row14 col5\" >0.165498</td>\n",
       "      <td id=\"T_3e9ec_row14_col6\" class=\"data row14 col6\" >2212349.511699</td>\n",
       "    </tr>\n",
       "    <tr>\n",
       "      <td id=\"T_3e9ec_row15_col0\" class=\"data row15 col0\" >16</td>\n",
       "      <td id=\"T_3e9ec_row15_col1\" class=\"data row15 col1\" >52978265.061406</td>\n",
       "      <td id=\"T_3e9ec_row15_col2\" class=\"data row15 col2\" >0.257373</td>\n",
       "      <td id=\"T_3e9ec_row15_col3\" class=\"data row15 col3\" >31540530.540391</td>\n",
       "      <td id=\"T_3e9ec_row15_col4\" class=\"data row15 col4\" >543893086324557.187500</td>\n",
       "      <td id=\"T_3e9ec_row15_col5\" class=\"data row15 col5\" >0.167492</td>\n",
       "      <td id=\"T_3e9ec_row15_col6\" class=\"data row15 col6\" >2239807.620795</td>\n",
       "    </tr>\n",
       "    <tr>\n",
       "      <td id=\"T_3e9ec_row16_col0\" class=\"data row16 col0\" >17</td>\n",
       "      <td id=\"T_3e9ec_row16_col1\" class=\"data row16 col1\" >53656915.056883</td>\n",
       "      <td id=\"T_3e9ec_row16_col2\" class=\"data row16 col2\" >0.238855</td>\n",
       "      <td id=\"T_3e9ec_row16_col3\" class=\"data row16 col3\" >31802703.750849</td>\n",
       "      <td id=\"T_3e9ec_row16_col4\" class=\"data row16 col4\" >569333312047844.750000</td>\n",
       "      <td id=\"T_3e9ec_row16_col5\" class=\"data row16 col5\" >0.173915</td>\n",
       "      <td id=\"T_3e9ec_row16_col6\" class=\"data row16 col6\" >2283633.847754</td>\n",
       "    </tr>\n",
       "    <tr>\n",
       "      <td id=\"T_3e9ec_row17_col0\" class=\"data row17 col0\" >18</td>\n",
       "      <td id=\"T_3e9ec_row17_col1\" class=\"data row17 col1\" >53376276.691873</td>\n",
       "      <td id=\"T_3e9ec_row17_col2\" class=\"data row17 col2\" >0.249378</td>\n",
       "      <td id=\"T_3e9ec_row17_col3\" class=\"data row17 col3\" >31949670.443289</td>\n",
       "      <td id=\"T_3e9ec_row17_col4\" class=\"data row17 col4\" >598151701231187.750000</td>\n",
       "      <td id=\"T_3e9ec_row17_col5\" class=\"data row17 col5\" >0.168857</td>\n",
       "      <td id=\"T_3e9ec_row17_col6\" class=\"data row17 col6\" >2387074.087739</td>\n",
       "    </tr>\n",
       "    <tr>\n",
       "      <td id=\"T_3e9ec_row18_col0\" class=\"data row18 col0\" >19</td>\n",
       "      <td id=\"T_3e9ec_row18_col1\" class=\"data row18 col1\" >53922330.526161</td>\n",
       "      <td id=\"T_3e9ec_row18_col2\" class=\"data row18 col2\" >0.231199</td>\n",
       "      <td id=\"T_3e9ec_row18_col3\" class=\"data row18 col3\" >32024992.309895</td>\n",
       "      <td id=\"T_3e9ec_row18_col4\" class=\"data row18 col4\" >628611163003063.750000</td>\n",
       "      <td id=\"T_3e9ec_row18_col5\" class=\"data row18 col5\" >0.185655</td>\n",
       "      <td id=\"T_3e9ec_row18_col6\" class=\"data row18 col6\" >2298759.447526</td>\n",
       "    </tr>\n",
       "    <tr>\n",
       "      <td id=\"T_3e9ec_row19_col0\" class=\"data row19 col0\" >20</td>\n",
       "      <td id=\"T_3e9ec_row19_col1\" class=\"data row19 col1\" >53199808.694563</td>\n",
       "      <td id=\"T_3e9ec_row19_col2\" class=\"data row19 col2\" >0.249761</td>\n",
       "      <td id=\"T_3e9ec_row19_col3\" class=\"data row19 col3\" >31809238.367210</td>\n",
       "      <td id=\"T_3e9ec_row19_col4\" class=\"data row19 col4\" >539632669572614.937500</td>\n",
       "      <td id=\"T_3e9ec_row19_col5\" class=\"data row19 col5\" >0.177923</td>\n",
       "      <td id=\"T_3e9ec_row19_col6\" class=\"data row19 col6\" >2254464.118425</td>\n",
       "    </tr>\n",
       "  </tbody>\n",
       "</table>\n"
      ],
      "text/plain": [
       "<pandas.io.formats.style.Styler at 0xffff33253cb0>"
      ]
     },
     "execution_count": 56,
     "metadata": {},
     "output_type": "execute_result"
    }
   ],
   "source": [
    "mean_sq_err = np.sqrt(abs(model.cv_results_['mean_test_neg_mean_squared_error']))\n",
    "#nothing needs to be done for r2, it is the same\n",
    "r2= model.cv_results_['mean_test_r2']\n",
    "#Have negative mean absolute error so need to take absolute value\n",
    "mae= abs(model.cv_results_['mean_test_neg_mean_absolute_error'])\n",
    "\n",
    "#Get standard deviations as well...\n",
    "SDmse =  model.cv_results_['std_test_neg_mean_squared_error']\n",
    "SDr2= model.cv_results_['std_test_r2']\n",
    "SDmae= model.cv_results_['std_test_neg_mean_absolute_error']\n",
    "\n",
    "#Parameter:\n",
    "depth= np.unique(model.cv_results_['param_max_depth']).data\n",
    "\n",
    "#Build DataFrame:\n",
    "final_model = pd.DataFrame(list(zip(depth, mean_sq_err, r2,mae, SDmse,SDr2,SDmae)),\n",
    "               columns =['depth','rmse','r2','mae',\"rmseSD\",'r2SD','maeSD'])\n",
    "\n",
    "#Let's take a look\n",
    "final_model.style.hide(axis=\"index\")"
   ]
  },
  {
   "cell_type": "markdown",
   "metadata": {},
   "source": [
    "#12 Which variables appear to be contributing the most (variable importance) "
   ]
  },
  {
   "cell_type": "code",
   "execution_count": 50,
   "metadata": {},
   "outputs": [
    {
     "name": "stdout",
     "output_type": "stream",
     "text": [
      "                           importance\n",
      "num_voted_users              0.674400\n",
      "budget                       0.313126\n",
      "num_critic_for_reviews       0.007459\n",
      "num_user_for_reviews         0.005015\n",
      "actor_1_facebook_likes       0.000000\n",
      "cast_total_facebook_likes    0.000000\n",
      "imdb_score                   0.000000\n",
      "movie_facebook_likes         0.000000\n",
      "Axes(0.125,0.11;0.775x0.77)\n"
     ]
    },
    {
     "data": {
      "image/png": "[encoded data removed]",
      "text/plain": [
       "<Figure size 1000x700 with 1 Axes>"
      ]
     },
     "metadata": {},
     "output_type": "display_data"
    }
   ],
   "source": [
    "varimp=pd.DataFrame(best.feature_importances_,index = X_train.columns,columns=['importance']).sort_values('importance', ascending=False)\n",
    "print(varimp)\n",
    "\n",
    "plt.figure(figsize=(10,7))\n",
    "print(varimp.importance.nlargest(7).plot(kind='barh'))"
   ]
  },
  {
   "cell_type": "markdown",
   "metadata": {},
   "source": [
    "#13 Create a model object using the best model hyperparameter value from the trained regression tree. "
   ]
  },
  {
   "cell_type": "code",
   "execution_count": null,
   "metadata": {},
   "outputs": [],
   "source": []
  },
  {
   "cell_type": "markdown",
   "metadata": {},
   "source": [
    "#14 Using the best model predict on the tune data and print out the results."
   ]
  },
  {
   "cell_type": "markdown",
   "metadata": {},
   "source": [
    "#15 How does the model perform on the tune data as compared to the training data?"
   ]
  },
  {
   "cell_type": "markdown",
   "metadata": {},
   "source": [
    "#16 What five movies are predicted to have the lowest gross revenue from the tune set? "
   ]
  },
  {
   "cell_type": "markdown",
   "metadata": {},
   "source": [
    "#17 As a data scientist you are always looking to improve your results. What are some ideas you have to improve the model? Have you ask...WHAT IF?!"
   ]
  },
  {
   "cell_type": "markdown",
   "metadata": {},
   "source": [
    "#18 Experiment using your what if ideas (two is fine). Did the model improve? If so, how much? If not, what did you learn? (You don't need to include all the \"what if\" code just speak to what you tried and what you learned)."
   ]
  },
  {
   "cell_type": "markdown",
   "metadata": {},
   "source": [
    "#19 Use the best model to predict on the test data and print out the evaluation results."
   ]
  },
  {
   "cell_type": "markdown",
   "metadata": {},
   "source": [
    "#20 Does the model perform well on the test data when compared to the training and tune data? Why or why not? "
   ]
  },
  {
   "cell_type": "markdown",
   "metadata": {},
   "source": [
    "#21 Where are the errors occurring in your predictions? Are they systematic or random? In either case, what are the implications of this?"
   ]
  },
  {
   "cell_type": "markdown",
   "metadata": {},
   "source": [
    "#22 Summarize what you learned along the way and make recommendations on how this could be used moving forward, being careful not to over promise."
   ]
  }
 ],
 "metadata": {
  "kernelspec": {
   "display_name": "Python 3",
   "language": "python",
   "name": "python3"
  },
  "language_info": {
   "codemirror_mode": {
    "name": "ipython",
    "version": 3
   },
   "file_extension": ".py",
   "mimetype": "text/x-python",
   "name": "python",
   "nbconvert_exporter": "python",
   "pygments_lexer": "ipython3",
   "version": "3.12.8"
  }
 },
 "nbformat": 4,
 "nbformat_minor": 2
}
