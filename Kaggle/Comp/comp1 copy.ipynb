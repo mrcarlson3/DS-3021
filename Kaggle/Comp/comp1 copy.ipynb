{
 "cells": [
  {
   "cell_type": "code",
   "execution_count": 1,
   "id": "5dc6178f",
   "metadata": {},
   "outputs": [],
   "source": [
    "import pandas as pd\n",
    "import numpy as np\n",
    "import matplotlib.pyplot as plt\n",
    "import graphviz\n",
    "from sklearn.model_selection import train_test_split,GridSearchCV,RepeatedStratifiedKFold\n",
    "from sklearn import metrics\n",
    "from sklearn.metrics import ConfusionMatrixDisplay, get_scorer_names\n",
    "from sklearn.preprocessing import OrdinalEncoder\n",
    "from sklearn.tree import plot_tree, DecisionTreeClassifier, export_graphviz\n",
    "from matplotlib import pyplot as plt\n",
    "import seaborn as sns\n",
    "from sklearn import preprocessing\n",
    "import random\n",
    "from numpy import log\n",
    "from sklearn.preprocessing import LabelEncoder"
   ]
  },
  {
   "cell_type": "code",
   "execution_count": 2,
   "id": "8a2f9ef3",
   "metadata": {},
   "outputs": [],
   "source": [
    "train_set = pd.read_csv('../Comp/education-attainment-prediction-2025/CENSUS_ED_ATTN.csv')\n",
    "test_set = pd.read_csv('../Comp/education-attainment-prediction-2025/Census_Test.csv')"
   ]
  },
  {
   "cell_type": "markdown",
   "id": "4df83859",
   "metadata": {},
   "source": [
    "A_HGA is our target variable"
   ]
  },
  {
   "cell_type": "code",
   "execution_count": 3,
   "id": "64a1db13",
   "metadata": {},
   "outputs": [],
   "source": [
    "def clean_split_data(df, target, train_size=0.75, tune_size=0.15, random_state=21):\n",
    "    #df = pd.get_dummies(df, columns=['PARENT', 'ERN_SRCE', 'A_MARITL', 'PEPAR1TYP', 'PEHSPNON', 'PRCITSHP'], drop_first=True)\n",
    "    #for col in ['A_SEX', 'PENATVTY', 'PEFNTVTY']:\n",
    "        #df[col] = LabelEncoder().fit_transform(df[col])\n",
    " \n",
    "    X = df.drop(columns=['A_HGA', 'PEAFEVER']) \n",
    "    X[['PENATVTY', 'PEFNTVTY', 'PRDTRACE']] = X[['PENATVTY', 'PEFNTVTY', 'PRDTRACE']].astype('category')\n",
    "    \n",
    "    y = df[target].astype('category')\n",
    "\n",
    "    # Split data into training and testing sets\n",
    "    X_train, X_temp, y_train, y_temp = train_test_split(X, y, train_size=train_size, stratify=y, random_state=random_state)\n",
    "    \n",
    "    # Split the temporary set into tuning and testing sets\n",
    "    X_tune, X_test, y_tune, y_test = train_test_split(X_temp, y_temp, train_size=tune_size, stratify=y_temp, random_state=random_state+28)\n",
    "    \n",
    "    return X_train, X_tune, X_test, y_train, y_tune, y_test\n",
    "\n",
    "# Use the function to split the movie data\n",
    "X_train, X_tune, X_test, y_train, y_tune, y_test = clean_split_data(train_set, 'A_HGA')"
   ]
  },
  {
   "cell_type": "code",
   "execution_count": 4,
   "id": "6828819f",
   "metadata": {},
   "outputs": [],
   "source": [
    "kf = RepeatedStratifiedKFold(n_splits=10, n_repeats =5, random_state=42)"
   ]
  },
  {
   "cell_type": "code",
   "execution_count": 5,
   "id": "f79c274b",
   "metadata": {},
   "outputs": [],
   "source": [
    "scoring = ['accuracy', 'recall_macro', 'balanced_accuracy', 'f1_macro']\n",
    "#only go to 5, because everything after is diminishing returns\n",
    "param={\"max_depth\" : [1,2,3,4,5,6,7,8,9,10],\n",
    "           }"
   ]
  },
  {
   "cell_type": "code",
   "execution_count": 6,
   "id": "44366666",
   "metadata": {},
   "outputs": [],
   "source": [
    "#cl= DecisionTreeClassifier(random_state=1000, class_weight='balanced')\n",
    "from sklearn.ensemble import RandomForestClassifier\n",
    "clf = RandomForestClassifier(random_state=1000, n_jobs=-1, class_weight='balanced')\n",
    "search = GridSearchCV(clf, param, scoring=scoring, n_jobs=1, cv=kf, refit='balanced_accuracy', return_train_score=True)"
   ]
  },
  {
   "cell_type": "code",
   "execution_count": 7,
   "id": "bd522f56",
   "metadata": {},
   "outputs": [],
   "source": [
    "model = search.fit(X_train, y_train)"
   ]
  },
  {
   "cell_type": "code",
   "execution_count": 8,
   "id": "2231f118",
   "metadata": {},
   "outputs": [
    {
     "name": "stdout",
     "output_type": "stream",
     "text": [
      "RandomForestClassifier(class_weight='balanced', max_depth=10, n_jobs=-1,\n",
      "                       random_state=1000)\n"
     ]
    },
    {
     "ename": "InvalidParameterError",
     "evalue": "The 'decision_tree' parameter of plot_tree must be an instance of 'sklearn.tree._classes.DecisionTreeClassifier' or an instance of 'sklearn.tree._classes.DecisionTreeRegressor'. Got RandomForestClassifier(class_weight='balanced', max_depth=10, n_jobs=-1,\n                       random_state=1000) instead.",
     "output_type": "error",
     "traceback": [
      "\u001b[0;31m---------------------------------------------------------------------------\u001b[0m",
      "\u001b[0;31mInvalidParameterError\u001b[0m                     Traceback (most recent call last)",
      "Cell \u001b[0;32mIn[8], line 5\u001b[0m\n\u001b[1;32m      2\u001b[0m \u001b[38;5;28mprint\u001b[39m(best)\n\u001b[1;32m      4\u001b[0m plt\u001b[38;5;241m.\u001b[39mfigure(figsize\u001b[38;5;241m=\u001b[39m(\u001b[38;5;241m20\u001b[39m,\u001b[38;5;241m10\u001b[39m))\n\u001b[0;32m----> 5\u001b[0m \u001b[43mplot_tree\u001b[49m\u001b[43m(\u001b[49m\u001b[43mbest\u001b[49m\u001b[43m,\u001b[49m\u001b[43m \u001b[49m\u001b[43mfeature_names\u001b[49m\u001b[38;5;241;43m=\u001b[39;49m\u001b[43mX_train\u001b[49m\u001b[38;5;241;43m.\u001b[39;49m\u001b[43mcolumns\u001b[49m\u001b[43m,\u001b[49m\u001b[43m \u001b[49m\u001b[43mclass_names\u001b[49m\u001b[38;5;241;43m=\u001b[39;49m\u001b[43m[\u001b[49m\u001b[38;5;28;43mstr\u001b[39;49m\u001b[43m(\u001b[49m\u001b[43mlabel\u001b[49m\u001b[43m)\u001b[49m\u001b[43m \u001b[49m\u001b[38;5;28;43;01mfor\u001b[39;49;00m\u001b[43m \u001b[49m\u001b[43mlabel\u001b[49m\u001b[43m \u001b[49m\u001b[38;5;129;43;01min\u001b[39;49;00m\u001b[43m \u001b[49m\u001b[43my_train\u001b[49m\u001b[38;5;241;43m.\u001b[39;49m\u001b[43munique\u001b[49m\u001b[43m(\u001b[49m\u001b[43m)\u001b[49m\u001b[43m]\u001b[49m\u001b[43m,\u001b[49m\u001b[43m \u001b[49m\u001b[43mfilled\u001b[49m\u001b[38;5;241;43m=\u001b[39;49m\u001b[38;5;28;43;01mTrue\u001b[39;49;00m\u001b[43m,\u001b[49m\u001b[43m \u001b[49m\u001b[43mrounded\u001b[49m\u001b[38;5;241;43m=\u001b[39;49m\u001b[38;5;28;43;01mTrue\u001b[39;49;00m\u001b[43m)\u001b[49m\n\u001b[1;32m      6\u001b[0m plt\u001b[38;5;241m.\u001b[39mshow()\n",
      "File \u001b[0;32m~/.local/lib/python3.12/site-packages/sklearn/utils/_param_validation.py:206\u001b[0m, in \u001b[0;36mvalidate_params.<locals>.decorator.<locals>.wrapper\u001b[0;34m(*args, **kwargs)\u001b[0m\n\u001b[1;32m    203\u001b[0m to_ignore \u001b[38;5;241m+\u001b[39m\u001b[38;5;241m=\u001b[39m [\u001b[38;5;124m\"\u001b[39m\u001b[38;5;124mself\u001b[39m\u001b[38;5;124m\"\u001b[39m, \u001b[38;5;124m\"\u001b[39m\u001b[38;5;124mcls\u001b[39m\u001b[38;5;124m\"\u001b[39m]\n\u001b[1;32m    204\u001b[0m params \u001b[38;5;241m=\u001b[39m {k: v \u001b[38;5;28;01mfor\u001b[39;00m k, v \u001b[38;5;129;01min\u001b[39;00m params\u001b[38;5;241m.\u001b[39marguments\u001b[38;5;241m.\u001b[39mitems() \u001b[38;5;28;01mif\u001b[39;00m k \u001b[38;5;129;01mnot\u001b[39;00m \u001b[38;5;129;01min\u001b[39;00m to_ignore}\n\u001b[0;32m--> 206\u001b[0m \u001b[43mvalidate_parameter_constraints\u001b[49m\u001b[43m(\u001b[49m\n\u001b[1;32m    207\u001b[0m \u001b[43m    \u001b[49m\u001b[43mparameter_constraints\u001b[49m\u001b[43m,\u001b[49m\u001b[43m \u001b[49m\u001b[43mparams\u001b[49m\u001b[43m,\u001b[49m\u001b[43m \u001b[49m\u001b[43mcaller_name\u001b[49m\u001b[38;5;241;43m=\u001b[39;49m\u001b[43mfunc\u001b[49m\u001b[38;5;241;43m.\u001b[39;49m\u001b[38;5;18;43m__qualname__\u001b[39;49m\n\u001b[1;32m    208\u001b[0m \u001b[43m\u001b[49m\u001b[43m)\u001b[49m\n\u001b[1;32m    210\u001b[0m \u001b[38;5;28;01mtry\u001b[39;00m:\n\u001b[1;32m    211\u001b[0m     \u001b[38;5;28;01mwith\u001b[39;00m config_context(\n\u001b[1;32m    212\u001b[0m         skip_parameter_validation\u001b[38;5;241m=\u001b[39m(\n\u001b[1;32m    213\u001b[0m             prefer_skip_nested_validation \u001b[38;5;129;01mor\u001b[39;00m global_skip_validation\n\u001b[1;32m    214\u001b[0m         )\n\u001b[1;32m    215\u001b[0m     ):\n",
      "File \u001b[0;32m~/.local/lib/python3.12/site-packages/sklearn/utils/_param_validation.py:98\u001b[0m, in \u001b[0;36mvalidate_parameter_constraints\u001b[0;34m(parameter_constraints, params, caller_name)\u001b[0m\n\u001b[1;32m     92\u001b[0m \u001b[38;5;28;01melse\u001b[39;00m:\n\u001b[1;32m     93\u001b[0m     constraints_str \u001b[38;5;241m=\u001b[39m (\n\u001b[1;32m     94\u001b[0m         \u001b[38;5;124mf\u001b[39m\u001b[38;5;124m\"\u001b[39m\u001b[38;5;132;01m{\u001b[39;00m\u001b[38;5;124m'\u001b[39m\u001b[38;5;124m, \u001b[39m\u001b[38;5;124m'\u001b[39m\u001b[38;5;241m.\u001b[39mjoin([\u001b[38;5;28mstr\u001b[39m(c)\u001b[38;5;250m \u001b[39m\u001b[38;5;28;01mfor\u001b[39;00m\u001b[38;5;250m \u001b[39mc\u001b[38;5;250m \u001b[39m\u001b[38;5;129;01min\u001b[39;00m\u001b[38;5;250m \u001b[39mconstraints[:\u001b[38;5;241m-\u001b[39m\u001b[38;5;241m1\u001b[39m]])\u001b[38;5;132;01m}\u001b[39;00m\u001b[38;5;124m or\u001b[39m\u001b[38;5;124m\"\u001b[39m\n\u001b[1;32m     95\u001b[0m         \u001b[38;5;124mf\u001b[39m\u001b[38;5;124m\"\u001b[39m\u001b[38;5;124m \u001b[39m\u001b[38;5;132;01m{\u001b[39;00mconstraints[\u001b[38;5;241m-\u001b[39m\u001b[38;5;241m1\u001b[39m]\u001b[38;5;132;01m}\u001b[39;00m\u001b[38;5;124m\"\u001b[39m\n\u001b[1;32m     96\u001b[0m     )\n\u001b[0;32m---> 98\u001b[0m \u001b[38;5;28;01mraise\u001b[39;00m InvalidParameterError(\n\u001b[1;32m     99\u001b[0m     \u001b[38;5;124mf\u001b[39m\u001b[38;5;124m\"\u001b[39m\u001b[38;5;124mThe \u001b[39m\u001b[38;5;132;01m{\u001b[39;00mparam_name\u001b[38;5;132;01m!r}\u001b[39;00m\u001b[38;5;124m parameter of \u001b[39m\u001b[38;5;132;01m{\u001b[39;00mcaller_name\u001b[38;5;132;01m}\u001b[39;00m\u001b[38;5;124m must be\u001b[39m\u001b[38;5;124m\"\u001b[39m\n\u001b[1;32m    100\u001b[0m     \u001b[38;5;124mf\u001b[39m\u001b[38;5;124m\"\u001b[39m\u001b[38;5;124m \u001b[39m\u001b[38;5;132;01m{\u001b[39;00mconstraints_str\u001b[38;5;132;01m}\u001b[39;00m\u001b[38;5;124m. Got \u001b[39m\u001b[38;5;132;01m{\u001b[39;00mparam_val\u001b[38;5;132;01m!r}\u001b[39;00m\u001b[38;5;124m instead.\u001b[39m\u001b[38;5;124m\"\u001b[39m\n\u001b[1;32m    101\u001b[0m )\n",
      "\u001b[0;31mInvalidParameterError\u001b[0m: The 'decision_tree' parameter of plot_tree must be an instance of 'sklearn.tree._classes.DecisionTreeClassifier' or an instance of 'sklearn.tree._classes.DecisionTreeRegressor'. Got RandomForestClassifier(class_weight='balanced', max_depth=10, n_jobs=-1,\n                       random_state=1000) instead."
     ]
    },
    {
     "data": {
      "text/plain": [
       "<Figure size 2000x1000 with 0 Axes>"
      ]
     },
     "metadata": {},
     "output_type": "display_data"
    }
   ],
   "source": [
    "best= model.best_estimator_\n",
    "print(best)\n",
    "\n",
    "plt.figure(figsize=(20,10))\n",
    "plot_tree(best, feature_names=X_train.columns, class_names=[str(label) for label in y_train.unique()], filled=True, rounded=True)\n",
    "plt.show()"
   ]
  },
  {
   "cell_type": "code",
   "execution_count": 9,
   "id": "025f931a",
   "metadata": {},
   "outputs": [
    {
     "name": "stdout",
     "output_type": "stream",
     "text": [
      "   depth  accuracy    recall   bal_acc        f1  accuracySD  recallSD  \\\n",
      "0      1  0.248918  0.179928  0.179928  0.075200    0.006713  0.005353   \n",
      "1      2  0.252127  0.195300  0.195300  0.093335    0.002972  0.007345   \n",
      "2      3  0.272096  0.217797  0.217797  0.125219    0.003822  0.007376   \n",
      "3      4  0.295948  0.225080  0.225080  0.143443    0.004663  0.006961   \n",
      "4      5  0.310205  0.229438  0.229438  0.152611    0.005571  0.007450   \n",
      "5      6  0.310344  0.233334  0.233334  0.156244    0.005384  0.007044   \n",
      "6      7  0.317598  0.235305  0.235305  0.159803    0.004587  0.007218   \n",
      "7      8  0.321091  0.237933  0.237933  0.161717    0.003554  0.006593   \n",
      "8      9  0.327370  0.239158  0.239158  0.164510    0.004179  0.008388   \n",
      "9     10  0.330892  0.240833  0.240833  0.167432    0.004494  0.007723   \n",
      "\n",
      "   bal_accSD      f1SD  \n",
      "0   0.005353  0.005264  \n",
      "1   0.007345  0.003909  \n",
      "2   0.007376  0.003608  \n",
      "3   0.006961  0.004000  \n",
      "4   0.007450  0.003597  \n",
      "5   0.007044  0.003005  \n",
      "6   0.007218  0.002707  \n",
      "7   0.006593  0.002590  \n",
      "8   0.008388  0.003309  \n",
      "9   0.007723  0.003126  \n"
     ]
    },
    {
     "data": {
      "text/plain": [
       "[<matplotlib.lines.Line2D at 0xffff2c6e79e0>]"
      ]
     },
     "execution_count": 9,
     "metadata": {},
     "output_type": "execute_result"
    },
    {
     "data": {
      "image/png": "[encoded data removed]",
      "text/plain": [
       "<Figure size 640x480 with 1 Axes>"
      ]
     },
     "metadata": {},
     "output_type": "display_data"
    }
   ],
   "source": [
    "np.random.seed(1)\n",
    "accuracy = model.cv_results_['mean_test_accuracy']\n",
    "recall = model.cv_results_['mean_test_recall_macro']\n",
    "bal_acc = model.cv_results_['mean_test_balanced_accuracy']\n",
    "f1 = model.cv_results_['mean_test_f1_macro']\n",
    "\n",
    "SDaccuracy = model.cv_results_['std_test_accuracy']\n",
    "SDrecall = model.cv_results_['std_test_recall_macro']\n",
    "SDbal_acc = model.cv_results_['std_test_balanced_accuracy']\n",
    "SDf1 = model.cv_results_['std_test_f1_macro']\n",
    "\n",
    "depth = np.unique(model.cv_results_['param_max_depth']).data\n",
    "\n",
    "final_model = pd.DataFrame(list(zip(depth, accuracy, recall, bal_acc, f1, SDaccuracy, SDrecall, SDbal_acc, SDf1)),\n",
    "               columns=['depth', 'accuracy', 'recall', 'bal_acc', 'f1', 'accuracySD', 'recallSD', 'bal_accSD', 'f1SD'])\n",
    "\n",
    "print(final_model)\n",
    "plt.plot(final_model['depth'], final_model['bal_acc'], label='Accuracy')"
   ]
  },
  {
   "cell_type": "code",
   "execution_count": 10,
   "id": "ea802caf",
   "metadata": {},
   "outputs": [
    {
     "name": "stdout",
     "output_type": "stream",
     "text": [
      "           importance\n",
      "WSAL_VAL     0.180390\n",
      "PARENT       0.175829\n",
      "PENATVTY     0.108801\n",
      "PEINUSYR     0.094908\n",
      "PEFNTVTY     0.093101\n",
      "PEPAR1TYP    0.077567\n",
      "A_MARITL     0.065710\n",
      "ERN_SRCE     0.058630\n",
      "PRCITSHP     0.048853\n",
      "PRDTRACE     0.037830\n",
      "PEHSPNON     0.029293\n",
      "A_SEX        0.023496\n",
      "ANN_VAL      0.005591\n"
     ]
    },
    {
     "data": {
      "image/png": "[encoded data removed]",
      "text/plain": [
       "<Figure size 1000x600 with 1 Axes>"
      ]
     },
     "metadata": {},
     "output_type": "display_data"
    }
   ],
   "source": [
    "varimp = pd.DataFrame(best.feature_importances_, index=X_train.columns, columns=['importance']).sort_values('importance', ascending=False)\n",
    "print(varimp)\n",
    "\n",
    "# Plot the feature importances\n",
    "plt.figure(figsize=(10, 6))\n",
    "sns.barplot(x=varimp['importance'], y=varimp.index)\n",
    "plt.title('Feature Importances')\n",
    "plt.xlabel('Importance')\n",
    "plt.ylabel('Features')\n",
    "plt.show()"
   ]
  },
  {
   "cell_type": "code",
   "execution_count": 11,
   "id": "7a9d2419",
   "metadata": {},
   "outputs": [
    {
     "name": "stdout",
     "output_type": "stream",
     "text": [
      "Percentage of Each Predicted Label:\n",
      "    Label  Percentage\n",
      "0       0   24.042179\n",
      "1      39   12.917399\n",
      "2      42   12.601054\n",
      "3      41    9.507909\n",
      "4      44    6.608084\n",
      "5      33    5.342707\n",
      "6      46    5.166960\n",
      "7      37    4.323374\n",
      "8      45    3.901582\n",
      "9      40    3.602812\n",
      "10     31    3.145870\n",
      "11     38    2.741652\n",
      "12     32    2.442882\n",
      "13     43    2.214411\n",
      "14     36    1.001757\n",
      "15     34    0.263620\n",
      "16     35    0.175747\n"
     ]
    }
   ],
   "source": [
    "tune_predictions = pd.DataFrame(model.predict(X_tune), columns=['Predicted_Label']) \n",
    "\n",
    "percentages = tune_predictions['Predicted_Label'].value_counts(normalize=True) * 100\n",
    "\n",
    "# Convert to a table format\n",
    "table = percentages.reset_index()\n",
    "table.columns = ['Label', 'Percentage']\n",
    "\n",
    "# Print the table\n",
    "print(\"Percentage of Each Predicted Label:\")\n",
    "print(table)"
   ]
  },
  {
   "cell_type": "code",
   "execution_count": 12,
   "id": "3e1af7da",
   "metadata": {},
   "outputs": [
    {
     "name": "stdout",
     "output_type": "stream",
     "text": [
      "Macro Precision on Test Set: 0.1959\n",
      "\n",
      "Classification Report:\n",
      "              precision    recall  f1-score   support\n",
      "\n",
      "           0     0.8551    0.9955    0.9200      6684\n",
      "          31     0.0189    0.2466    0.0351        73\n",
      "          32     0.0737    0.4241    0.1256       158\n",
      "          33     0.0857    0.4783    0.1453       299\n",
      "          34     0.0769    0.0072    0.0132       555\n",
      "          35     0.1566    0.0187    0.0334       695\n",
      "          36     0.3701    0.1197    0.1809       785\n",
      "          37     0.1452    0.2011    0.1686       890\n",
      "          38     0.0333    0.0687    0.0448       451\n",
      "          39     0.3879    0.2233    0.2834      7067\n",
      "          40     0.2594    0.0798    0.1221      3958\n",
      "          41     0.0628    0.1884    0.0942      1035\n",
      "          42     0.0846    0.2544    0.1270      1372\n",
      "          43     0.3308    0.0514    0.0890      5155\n",
      "          44     0.2417    0.2254    0.2332      2254\n",
      "          45     0.0767    0.2985    0.1220       335\n",
      "          46     0.0712    0.2453    0.1103       481\n",
      "\n",
      "    accuracy                         0.3297     32247\n",
      "   macro avg     0.1959    0.2427    0.1675     32247\n",
      "weighted avg     0.3907    0.3297    0.3223     32247\n",
      "\n"
     ]
    }
   ],
   "source": [
    "from sklearn.metrics import precision_score, classification_report\n",
    "\n",
    "# Predict on test set using best estimator\n",
    "y_pred = search.best_estimator_.predict(X_test)\n",
    "\n",
    "# Macro precision\n",
    "macro_prec = precision_score(y_test, y_pred, average='macro')\n",
    "print(f\"Macro Precision on Test Set: {macro_prec:.4f}\")\n",
    "\n",
    "print(\"\\nClassification Report:\")\n",
    "print(classification_report(y_test, y_pred, digits=4))"
   ]
  },
  {
   "cell_type": "code",
   "execution_count": 13,
   "id": "b8e5caaa",
   "metadata": {},
   "outputs": [
    {
     "name": "stdout",
     "output_type": "stream",
     "text": [
      "     A_HGA\n",
      "ID        \n",
      "1        0\n",
      "2       46\n",
      "3       43\n",
      "4       37\n",
      "5        0\n",
      "..     ...\n",
      "981     41\n",
      "982     37\n",
      "983      0\n",
      "984      0\n",
      "985      0\n",
      "\n",
      "[985 rows x 1 columns]\n"
     ]
    }
   ],
   "source": [
    "# Predict the target variable for the test set\n",
    "test_set = test_set.drop(columns=['PEAFEVER'])\n",
    "test_predictions = model.best_estimator_.predict(test_set)\n",
    "\n",
    "# Add predictions to the test set\n",
    "test_set.index = test_set.index + 1\n",
    "test_set.index.name = 'ID'\n",
    "test_set['A_HGA'] = test_predictions\n",
    "\n",
    "\n",
    "# Keep only the Predicted_Score and index\n",
    "test_set = test_set[['A_HGA']]\n",
    "print(test_set)\n",
    "# Save the predictions to a CSV file\n",
    "test_set.to_csv('predictions.csv', index=True, header=True)"
   ]
  }
 ],
 "metadata": {
  "kernelspec": {
   "display_name": "Python 3",
   "language": "python",
   "name": "python3"
  },
  "language_info": {
   "codemirror_mode": {
    "name": "ipython",
    "version": 3
   },
   "file_extension": ".py",
   "mimetype": "text/x-python",
   "name": "python",
   "nbconvert_exporter": "python",
   "pygments_lexer": "ipython3",
   "version": "3.12.8"
  }
 },
 "nbformat": 4,
 "nbformat_minor": 5
}
