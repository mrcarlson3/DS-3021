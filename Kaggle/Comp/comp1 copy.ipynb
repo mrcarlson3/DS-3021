{
 "cells": [
  {
   "cell_type": "code",
   "execution_count": 47,
   "id": "5dc6178f",
   "metadata": {},
   "outputs": [],
   "source": [
    "import pandas as pd\n",
    "import numpy as np\n",
    "import matplotlib.pyplot as plt\n",
    "import graphviz\n",
    "from sklearn.model_selection import train_test_split,GridSearchCV,RepeatedStratifiedKFold, StratifiedKFold\n",
    "from sklearn import metrics\n",
    "from sklearn.metrics import ConfusionMatrixDisplay, get_scorer_names\n",
    "from sklearn.preprocessing import OrdinalEncoder\n",
    "from sklearn.tree import plot_tree, DecisionTreeClassifier, export_graphviz\n",
    "from matplotlib import pyplot as plt\n",
    "import seaborn as sns\n",
    "from sklearn import preprocessing\n",
    "import random\n",
    "from numpy import log\n",
    "from sklearn.preprocessing import OrdinalEncoder, StandardScaler\n",
    "from sklearn.preprocessing import LabelEncoder"
   ]
  },
  {
   "cell_type": "code",
   "execution_count": 48,
   "id": "8a2f9ef3",
   "metadata": {},
   "outputs": [],
   "source": [
    "train_set = pd.read_csv('../Comp/education-attainment-prediction-2025/CENSUS_ED_ATTN.csv')\n",
    "test_set = pd.read_csv('../Comp/education-attainment-prediction-2025/Census_Test.csv')"
   ]
  },
  {
   "cell_type": "markdown",
   "id": "4df83859",
   "metadata": {},
   "source": [
    "A_HGA is our target variable"
   ]
  },
  {
   "cell_type": "code",
   "execution_count": 49,
   "id": "64a1db13",
   "metadata": {},
   "outputs": [],
   "source": [
    "def clean_split_data(df, target, train_size=0.75, tune_size=0.15, random_state=21):\n",
    "    X = df.drop(columns=['A_HGA']) \n",
    "    X[['PENATVTY', 'PEFNTVTY', 'PRDTRACE']] = X[['PENATVTY', 'PEFNTVTY', 'PRDTRACE']].astype('category')\n",
    "    \n",
    "    y = df[target].astype('category')\n",
    "\n",
    "    # Split data into training and testing sets\n",
    "    X_train, X_temp, y_train, y_temp = train_test_split(X, y, train_size=train_size, stratify=y, random_state=random_state)\n",
    "    \n",
    "    # Split the temporary set into tuning and testing sets\n",
    "    X_tune, X_test, y_tune, y_test = train_test_split(X_temp, y_temp, train_size=tune_size, stratify=y_temp, random_state=random_state+28)\n",
    "    \n",
    "    return X_train, X_tune, X_test, y_train, y_tune, y_test\n",
    "\n",
    "# Use the function to split the movie data\n",
    "X_train, X_tune, X_test, y_train, y_tune, y_test = clean_split_data(train_set, 'A_HGA')"
   ]
  },
  {
   "cell_type": "code",
   "execution_count": 51,
   "id": "6828819f",
   "metadata": {},
   "outputs": [],
   "source": [
    "kf = RepeatedStratifiedKFold(n_splits=10, n_repeats =5, random_state=42)"
   ]
  },
  {
   "cell_type": "code",
   "execution_count": 52,
   "id": "f79c274b",
   "metadata": {},
   "outputs": [],
   "source": [
    "scoring = ['accuracy', 'recall_macro', 'balanced_accuracy', 'f1_macro']\n",
    "#only go to 5, because everything after is diminishing returns\n",
    "param={\"max_depth\" : [1,2,3,4,5,6,7,8,9,10],\n",
    "           }"
   ]
  },
  {
   "cell_type": "code",
   "execution_count": 53,
   "id": "44366666",
   "metadata": {},
   "outputs": [],
   "source": [
    "#cl= DecisionTreeClassifier(random_state=1000, class_weight='balanced')\n",
    "from sklearn.ensemble import RandomForestClassifier\n",
    "clf = RandomForestClassifier(random_state=1000, n_jobs=-1, class_weight='balanced')\n",
    "#search = GridSearchCV(clf, param, scoring=scoring, n_jobs=1, cv=kf, refit='balanced_accuracy', return_train_score=True)\n",
    "from sklearn.model_selection import RandomizedSearchCV\n",
    "\n",
    "param_dist = {\n",
    "    \"max_depth\": [4, 6, 8, 10],\n",
    "    \"min_samples_split\": [2, 5, 10],\n",
    "    \"min_samples_leaf\": [1, 2, 5]\n",
    "}\n",
    "search = RandomizedSearchCV(\n",
    "    estimator=RandomForestClassifier(random_state=1000, class_weight='balanced'),\n",
    "    param_distributions=param_dist,\n",
    "    n_iter=20,  # number of random combinations to try\n",
    "    scoring = ['accuracy', 'recall_macro', 'balanced_accuracy', 'f1_macro'],\n",
    "    cv=StratifiedKFold(n_splits=5, shuffle=True, random_state=42),\n",
    "    n_jobs=-1,\n",
    "    random_state=42,\n",
    "    refit='balanced_accuracy'\n",
    ")\n"
   ]
  },
  {
   "cell_type": "code",
   "execution_count": null,
   "id": "bd522f56",
   "metadata": {},
   "outputs": [],
   "source": [
    "model = search.fit(X_train, y_train)"
   ]
  },
  {
   "cell_type": "code",
   "execution_count": 55,
   "id": "2231f118",
   "metadata": {},
   "outputs": [
    {
     "name": "stdout",
     "output_type": "stream",
     "text": [
      "RandomForestClassifier(class_weight='balanced', max_depth=10,\n",
      "                       min_samples_split=10, random_state=1000)\n"
     ]
    }
   ],
   "source": [
    "best= model.best_estimator_\n",
    "print(best)\n",
    "\n",
    "#plt.figure(figsize=(20,10))\n",
    "#plot_tree(best, feature_names=X_train.columns, class_names=[str(label) for label in y_train.unique()], filled=True, rounded=True)\n",
    "#plt.show()"
   ]
  },
  {
   "cell_type": "code",
   "execution_count": 56,
   "id": "025f931a",
   "metadata": {},
   "outputs": [
    {
     "name": "stdout",
     "output_type": "stream",
     "text": [
      "   depth  accuracy    recall   bal_acc        f1  accuracySD  recallSD  \\\n",
      "0      4  0.328556  0.249119  0.249119  0.173073    0.001877  0.003851   \n",
      "1      6  0.320648  0.239716  0.239716  0.160629    0.007628  0.005048   \n",
      "2      8  0.325349  0.243420  0.243420  0.168020    0.005652  0.004100   \n",
      "3     10  0.328952  0.249984  0.249984  0.173817    0.001486  0.004311   \n",
      "\n",
      "   bal_accSD      f1SD  \n",
      "0   0.003851  0.002705  \n",
      "1   0.005048  0.003397  \n",
      "2   0.004100  0.002910  \n",
      "3   0.004311  0.002549  \n"
     ]
    },
    {
     "data": {
      "text/plain": [
       "[<matplotlib.lines.Line2D at 0xffff3ddd2840>]"
      ]
     },
     "execution_count": 56,
     "metadata": {},
     "output_type": "execute_result"
    },
    {
     "data": {
      "image/png": "[encoded data removed]",
      "text/plain": [
       "<Figure size 640x480 with 1 Axes>"
      ]
     },
     "metadata": {},
     "output_type": "display_data"
    }
   ],
   "source": [
    "np.random.seed(1)\n",
    "accuracy = model.cv_results_['mean_test_accuracy']\n",
    "recall = model.cv_results_['mean_test_recall_macro']\n",
    "bal_acc = model.cv_results_['mean_test_balanced_accuracy']\n",
    "f1 = model.cv_results_['mean_test_f1_macro']\n",
    "\n",
    "SDaccuracy = model.cv_results_['std_test_accuracy']\n",
    "SDrecall = model.cv_results_['std_test_recall_macro']\n",
    "SDbal_acc = model.cv_results_['std_test_balanced_accuracy']\n",
    "SDf1 = model.cv_results_['std_test_f1_macro']\n",
    "\n",
    "depth = np.unique(model.cv_results_['param_max_depth']).data\n",
    "\n",
    "final_model = pd.DataFrame(list(zip(depth, accuracy, recall, bal_acc, f1, SDaccuracy, SDrecall, SDbal_acc, SDf1)),\n",
    "               columns=['depth', 'accuracy', 'recall', 'bal_acc', 'f1', 'accuracySD', 'recallSD', 'bal_accSD', 'f1SD'])\n",
    "\n",
    "print(final_model)\n",
    "plt.plot(final_model['depth'], final_model['bal_acc'], label='Accuracy')"
   ]
  },
  {
   "cell_type": "code",
   "execution_count": 57,
   "id": "ea802caf",
   "metadata": {},
   "outputs": [
    {
     "name": "stdout",
     "output_type": "stream",
     "text": [
      "           importance\n",
      "WSAL_VAL     0.156921\n",
      "PEAFEVER     0.154378\n",
      "PARENT       0.106359\n",
      "PENATVTY     0.094009\n",
      "PEINUSYR     0.084074\n",
      "PEFNTVTY     0.074363\n",
      "A_MARITL     0.065531\n",
      "PEPAR1TYP    0.064166\n",
      "PRCITSHP     0.058051\n",
      "ERN_SRCE     0.054391\n",
      "PRDTRACE     0.032271\n",
      "PEHSPNON     0.031508\n",
      "A_SEX        0.019533\n",
      "ANN_VAL      0.004445\n"
     ]
    },
    {
     "data": {
      "image/png": "[encoded data removed]",
      "text/plain": [
       "<Figure size 1000x600 with 1 Axes>"
      ]
     },
     "metadata": {},
     "output_type": "display_data"
    }
   ],
   "source": [
    "varimp = pd.DataFrame(best.feature_importances_, index=X_train.columns, columns=['importance']).sort_values('importance', ascending=False)\n",
    "print(varimp)\n",
    "\n",
    "# Plot the feature importances\n",
    "plt.figure(figsize=(10, 6))\n",
    "sns.barplot(x=varimp['importance'], y=varimp.index)\n",
    "plt.title('Feature Importances')\n",
    "plt.xlabel('Importance')\n",
    "plt.ylabel('Features')\n",
    "plt.show()"
   ]
  },
  {
   "cell_type": "code",
   "execution_count": 58,
   "id": "7a9d2419",
   "metadata": {},
   "outputs": [
    {
     "name": "stdout",
     "output_type": "stream",
     "text": [
      "Percentage of Each Predicted Label:\n",
      "    Label  Percentage\n",
      "0      45   31.722320\n",
      "1      33   24.868190\n",
      "2      32   14.815466\n",
      "3      44   11.898067\n",
      "4      39    6.731107\n",
      "5      42    3.286467\n",
      "6      31    2.126538\n",
      "7      36    1.493849\n",
      "8      43    1.247803\n",
      "9      37    1.230228\n",
      "10     40    0.421793\n",
      "11     46    0.140598\n",
      "12     38    0.017575\n"
     ]
    },
    {
     "name": "stderr",
     "output_type": "stream",
     "text": [
      "/home/vscode/.local/lib/python3.12/site-packages/sklearn/utils/validation.py:2732: UserWarning: X has feature names, but RandomForestClassifier was fitted without feature names\n",
      "  warnings.warn(\n"
     ]
    }
   ],
   "source": [
    "tune_predictions = pd.DataFrame(model.predict(X_tune), columns=['Predicted_Label']) \n",
    "\n",
    "percentages = tune_predictions['Predicted_Label'].value_counts(normalize=True) * 100\n",
    "\n",
    "# Convert to a table format\n",
    "table = percentages.reset_index()\n",
    "table.columns = ['Label', 'Percentage']\n",
    "\n",
    "# Print the table\n",
    "print(\"Percentage of Each Predicted Label:\")\n",
    "print(table)"
   ]
  },
  {
   "cell_type": "code",
   "execution_count": 59,
   "id": "3e1af7da",
   "metadata": {},
   "outputs": [
    {
     "name": "stdout",
     "output_type": "stream",
     "text": [
      "Macro Precision on Test Set: 0.0834\n",
      "\n",
      "Classification Report:\n",
      "              precision    recall  f1-score   support\n",
      "\n",
      "           0     0.0000    0.0000    0.0000      6684\n",
      "          31     0.0200    0.2055    0.0365        73\n",
      "          32     0.0029    0.0823    0.0056       158\n",
      "          33     0.0049    0.1304    0.0094       299\n",
      "          34     0.0000    0.0000    0.0000       555\n",
      "          35     0.0000    0.0000    0.0000       695\n",
      "          36     0.0335    0.0204    0.0253       785\n",
      "          37     0.4280    0.2270    0.2966       890\n",
      "          38     0.0000    0.0000    0.0000       451\n",
      "          39     0.3354    0.0998    0.1538      7067\n",
      "          40     0.2199    0.0078    0.0151      3958\n",
      "          41     0.0000    0.0000    0.0000      1035\n",
      "          42     0.0399    0.0284    0.0332      1372\n",
      "          43     0.1802    0.0138    0.0256      5155\n",
      "          44     0.0971    0.1708    0.1239      2254\n",
      "          45     0.0178    0.5552    0.0344       335\n",
      "          46     0.0385    0.0021    0.0039       481\n",
      "\n",
      "    accuracy                         0.0528     32247\n",
      "   macro avg     0.0834    0.0908    0.0449     32247\n",
      "weighted avg     0.1513    0.0528    0.0591     32247\n",
      "\n"
     ]
    },
    {
     "name": "stderr",
     "output_type": "stream",
     "text": [
      "/home/vscode/.local/lib/python3.12/site-packages/sklearn/utils/validation.py:2732: UserWarning: X has feature names, but RandomForestClassifier was fitted without feature names\n",
      "  warnings.warn(\n",
      "/home/vscode/.local/lib/python3.12/site-packages/sklearn/metrics/_classification.py:1565: UndefinedMetricWarning: Precision is ill-defined and being set to 0.0 in labels with no predicted samples. Use `zero_division` parameter to control this behavior.\n",
      "  _warn_prf(average, modifier, f\"{metric.capitalize()} is\", len(result))\n",
      "/home/vscode/.local/lib/python3.12/site-packages/sklearn/metrics/_classification.py:1565: UndefinedMetricWarning: Precision is ill-defined and being set to 0.0 in labels with no predicted samples. Use `zero_division` parameter to control this behavior.\n",
      "  _warn_prf(average, modifier, f\"{metric.capitalize()} is\", len(result))\n",
      "/home/vscode/.local/lib/python3.12/site-packages/sklearn/metrics/_classification.py:1565: UndefinedMetricWarning: Precision is ill-defined and being set to 0.0 in labels with no predicted samples. Use `zero_division` parameter to control this behavior.\n",
      "  _warn_prf(average, modifier, f\"{metric.capitalize()} is\", len(result))\n",
      "/home/vscode/.local/lib/python3.12/site-packages/sklearn/metrics/_classification.py:1565: UndefinedMetricWarning: Precision is ill-defined and being set to 0.0 in labels with no predicted samples. Use `zero_division` parameter to control this behavior.\n",
      "  _warn_prf(average, modifier, f\"{metric.capitalize()} is\", len(result))\n"
     ]
    }
   ],
   "source": [
    "from sklearn.metrics import precision_score, classification_report\n",
    "\n",
    "# Predict on test set using best estimator\n",
    "y_pred = search.best_estimator_.predict(X_test)\n",
    "\n",
    "# Macro precision\n",
    "macro_prec = precision_score(y_test, y_pred, average='macro')\n",
    "print(f\"Macro Precision on Test Set: {macro_prec:.4f}\")\n",
    "\n",
    "print(\"\\nClassification Report:\")\n",
    "print(classification_report(y_test, y_pred, digits=4))"
   ]
  },
  {
   "cell_type": "code",
   "execution_count": 60,
   "id": "b8e5caaa",
   "metadata": {},
   "outputs": [
    {
     "name": "stdout",
     "output_type": "stream",
     "text": [
      "     A_HGA\n",
      "ID        \n",
      "1       33\n",
      "2       44\n",
      "3       44\n",
      "4       42\n",
      "5       33\n",
      "..     ...\n",
      "981     45\n",
      "982     39\n",
      "983     33\n",
      "984     33\n",
      "985     33\n",
      "\n",
      "[985 rows x 1 columns]\n"
     ]
    },
    {
     "name": "stderr",
     "output_type": "stream",
     "text": [
      "/home/vscode/.local/lib/python3.12/site-packages/sklearn/utils/validation.py:2732: UserWarning: X has feature names, but RandomForestClassifier was fitted without feature names\n",
      "  warnings.warn(\n"
     ]
    }
   ],
   "source": [
    "# Predict the target variable for the test set\n",
    "#test_set = test_set.drop(columns=['PEAFEVER'])\n",
    "test_predictions = model.best_estimator_.predict(test_set)\n",
    "\n",
    "# Add predictions to the test set\n",
    "test_set.index = test_set.index + 1\n",
    "test_set.index.name = 'ID'\n",
    "test_set['A_HGA'] = test_predictions\n",
    "\n",
    "\n",
    "# Keep only the Predicted_Score and index\n",
    "test_set = test_set[['A_HGA']]\n",
    "print(test_set)\n",
    "# Save the predictions to a CSV file\n",
    "test_set.to_csv('predictions.csv', index=True, header=True)"
   ]
  }
 ],
 "metadata": {
  "kernelspec": {
   "display_name": "Python 3",
   "language": "python",
   "name": "python3"
  },
  "language_info": {
   "codemirror_mode": {
    "name": "ipython",
    "version": 3
   },
   "file_extension": ".py",
   "mimetype": "text/x-python",
   "name": "python",
   "nbconvert_exporter": "python",
   "pygments_lexer": "ipython3",
   "version": "3.12.8"
  }
 },
 "nbformat": 4,
 "nbformat_minor": 5
}
