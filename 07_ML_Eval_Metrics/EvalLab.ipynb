{
 "cells": [
  {
   "cell_type": "markdown",
   "metadata": {},
   "source": [
    "# Metrics Evaluation Lab\n",
    "##### Michael Carlson"
   ]
  },
  {
   "cell_type": "code",
   "execution_count": 1,
   "metadata": {},
   "outputs": [],
   "source": [
    "import pandas as pd\n",
    "import numpy as np\n",
    "from sklearn.model_selection import train_test_split\n",
    "from sklearn.neighbors import KNeighborsClassifier\n",
    "from matplotlib import pyplot as plt\n",
    "import seaborn as sns\n",
    "from sklearn import preprocessing\n",
    "import random\n",
    "from sklearn.metrics import confusion_matrix, ConfusionMatrixDisplay\n",
    "from sklearn.metrics import classification_report\n",
    "from sklearn import metrics\n",
    "from numpy import log\n"
   ]
  },
  {
   "cell_type": "code",
   "execution_count": 3,
   "metadata": {},
   "outputs": [
    {
     "name": "stdout",
     "output_type": "stream",
     "text": []
    }
   ],
   "source": [
    "from ucimlrepo import fetch_ucirepo \n",
    "  \n",
    "# fetch dataset \n",
    "secondary_mushroom = fetch_ucirepo(id=848) \n",
    "  \n",
    "# data (as pandas dataframes) \n",
    "X = secondary_mushroom.data.features \n",
    "y = secondary_mushroom.data.targets \n",
    "  \n",
    "# metadata \n",
    "print(secondary_mushroom.metadata) \n",
    "  \n",
    "# variable information \n",
    "print(secondary_mushroom.variables) \n"
   ]
  },
  {
   "cell_type": "code",
   "execution_count": 7,
   "metadata": {},
   "outputs": [
    {
     "data": {},
     "execution_count": 7,
     "metadata": {},
     "output_type": "execute_result"
    }
   ],
   "source": [
    "X.head()"
   ]
  },
  {
   "cell_type": "markdown",
   "metadata": {},
   "source": [
    "## Question:\n",
    "Can we predict whether the Mushroom is poisonous based on cap features?"
   ]
  },
  {
   "cell_type": "code",
   "execution_count": 20,
   "metadata": {},
   "outputs": [
    {
     "data": {},
     "execution_count": 20,
     "metadata": {},
     "output_type": "execute_result"
    }
   ],
   "source": [
    "#drop unnecessary columns\n",
    "\n",
    "# Ensure all columns have the same length and drop rows with NaN values\n",
    "df = X[['cap-diameter', 'cap-shape', 'cap-surface', 'cap-color']].dropna()\n",
    "df = df.join(y.loc[df.index])\n",
    "df.head()\n"
   ]
  },
  {
   "cell_type": "code",
   "execution_count": 28,
   "metadata": {},
   "outputs": [],
   "source": [
    "def clean_and_split(df, target, categories, test_size=0.4, val_size=0.5, random_state=1984):\n",
    "    #numeric_cols = df.select_dtypes(include=['int64', 'float64']).columns\n",
    "    #scaler = preprocessing.MinMaxScaler()\n",
    "    #df[numeric_cols] = scaler.fit_transform(df[numeric_cols])\n",
    "    \n",
    "    cat_cols = categories\n",
    "    df[cat_cols] = df[cat_cols].astype('category')  \n",
    "    df = pd.get_dummies(df, columns=cat_cols)\n",
    "    \n",
    "    # One-hot encode target\n",
    "    df = pd.get_dummies(df, columns=[target], prefix=target)\n",
    "    \n",
    "\n",
    "    # Split data into train, test, and validation sets\n",
    "    train, test = train_test_split(df, test_size=test_size, stratify=df[[f'{target}_e', f'{target}_p']], random_state=random_state)\n",
    "    test, val = train_test_split(test, test_size=val_size, stratify=test[[f'{target}_e', f'{target}_p']], random_state=random_state)\n",
    "    \n",
    "    X1_train = train.drop([f'{target}_e', f'{target}_p'], axis=1)\n",
    "    y1_train = train[[f'{target}_e', f'{target}_p']].idxmax(axis=1)\n",
    "    \n",
    "    X1_test = test.drop([f'{target}_e', f'{target}_p'], axis=1)\n",
    "    y1_test = test[[f'{target}_e', f'{target}_p']].idxmax(axis=1)\n",
    "    \n",
    "    X1_val = val.drop([f'{target}_e', f'{target}_p'], axis=1)\n",
    "    y1_val = val[[f'{target}_e', f'{target}_p']].idxmax(axis=1)\n",
    "    \n",
    "    return X1_train, y1_train, X1_test, y1_test, X1_val, y1_val\n",
    "\n",
    "X1_train, y1_train, X1_test, y1_test, X1_val, y1_val = clean_and_split(df,'class', ['cap-diameter', 'cap-shape', 'cap-surface', 'cap-color'])"
   ]
  },
  {
   "cell_type": "code",
   "execution_count": 32,
   "metadata": {},
   "outputs": [
    {
     "name": "stdout",
     "output_type": "stream",
     "text": []
    }
   ],
   "source": [
    "neigh = KNeighborsClassifier(n_neighbors=3)\n",
    "neigh.fit(X1_train, y1_train)\n",
    "\n",
    "\n",
    "# Evaluate model\n",
    "train_accuracy = neigh.score(X1_train, y1_train)\n",
    "val_accuracy = neigh.score(X1_val, y1_val)\n",
    "test_accuracy = neigh.score(X1_test, y1_test)\n",
    "\n",
    "\n",
    "print(f\"Training Accuracy: {train_accuracy}\")\n",
    "print(f\"Validation Accuracy: {val_accuracy}\")\n",
    "print(f\"Test Accuracy: {test_accuracy}\")\n",
    "\n",
    "y_test_pred = neigh.predict(X1_test)\n",
    "y_test_prob = neigh.predict_proba(X1_test)\n"
   ]
  },
  {
   "cell_type": "code",
   "execution_count": 34,
   "metadata": {},
   "outputs": [
    {
     "name": "stdout",
     "output_type": "stream",
     "text": []
    }
   ],
   "source": [
    "y_val_pred = neigh.predict(X1_val)\n",
    "results = pd.DataFrame({\n",
    "    'Actual': y1_test.tolist(),\n",
    "    'Predicted': y_test_pred.tolist(),\n",
    "    'Probabilities': y_test_prob.tolist()\n",
    "})\n",
    "\n",
    "print(results.head())"
   ]
  },
  {
   "cell_type": "code",
   "execution_count": 35,
   "metadata": {},
   "outputs": [
    {
     "name": "stdout",
     "output_type": "stream",
     "text": []
    }
   ],
   "source": [
    "cm = confusion_matrix(y1_val, y_val_pred, labels=neigh.classes_)\n",
    "disp = ConfusionMatrixDisplay(confusion_matrix=cm, display_labels=neigh.classes_)\n",
    "disp.plot()\n",
    "plt.show()"
   ]
  },
  {
   "cell_type": "code",
   "execution_count": 36,
   "metadata": {},
   "outputs": [
    {
     "name": "stdout",
     "output_type": "stream",
     "text": []
    }
   ],
   "source": [
    "print(classification_report(y1_val, y_val_pred))"
   ]
  },
  {
   "cell_type": "code",
   "execution_count": 43,
   "metadata": {},
   "outputs": [
    {
     "name": "stdout",
     "output_type": "stream",
     "text": []
    }
   ],
   "source": [
    "Accuracy = metrics.accuracy_score(y1_val, y_val_pred)\n",
    "Precision = metrics.precision_score(y1_val, y_val_pred, average='weighted')\n",
    "TruePositive = metrics.recall_score(y1_val, y_val_pred, average='weighted')\n",
    "F1Score = metrics.f1_score(y1_val, y_val_pred, average='weighted')\n",
    "CrossEntropy = log(1 - Accuracy) / log(Accuracy)\n",
    "Roc = metrics.roc_auc_score(y1_val, y_test_prob[:, 1])\n",
    "fp = cm[0][1]\n",
    "tn = cm[1][0]\n",
    "Fpr = fp/ (fp + tn)\n",
    "print(f\"False Positive Rate: {Fpr}\")\n",
    "print(f\"Cross Entropy: {CrossEntropy}\")\n",
    "print(f\"ROC AUC: {Roc}\")\n",
    "print(f\"Accuracy: {Accuracy}\")\n",
    "print(f\"Precision: {Precision}\")\n",
    "print(f\"True Positive Rate: {TruePositive}\")\n",
    "print(f\"F1 Score: {F1Score}\")\n"
   ]
  },
  {
   "cell_type": "markdown",
   "metadata": {},
   "source": [
    "These metrics tell me that the model is good at predicting Poisonous mushrooms, but not as good at predicting edible mushrooms."
   ]
  },
  {
   "cell_type": "markdown",
   "metadata": {},
   "source": [
    "#### Q3. In consideration of all the metrics you just used are there a few that seem more important given the question you are asking? Why?\n",
    "> The most important is True positive and false negative since we want to be sure that we are not misclassifying poisonous mushrooms as edible. "
   ]
  },
  {
   "cell_type": "markdown",
   "metadata": {},
   "source": [
    "#### Q4. Consider where classification errors are occurring, is there a pattern? If so discuss this pattern and why you think this is the case.\n",
    "> "
   ]
  }
 ],
 "metadata": {
  "kernelspec": {
   "display_name": "Python 3",
   "language": "python",
   "name": "python3"
  },
  "language_info": {
   "codemirror_mode": {
    "name": "ipython",
    "version": 3
   },
   "file_extension": ".py",
   "mimetype": "text/x-python",
   "name": "python",
   "nbconvert_exporter": "python",
   "pygments_lexer": "ipython3",
   "version": "3.12.8"
  }
 },
 "nbformat": 4,
 "nbformat_minor": 2
}
